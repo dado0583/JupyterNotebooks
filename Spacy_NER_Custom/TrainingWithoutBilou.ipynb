{
 "cells": [
  {
   "cell_type": "markdown",
   "metadata": {},
   "source": [
    "# Load a model"
   ]
  },
  {
   "cell_type": "code",
   "execution_count": 163,
   "metadata": {},
   "outputs": [],
   "source": [
    "import spacy\n",
    "nlp = spacy.load('en_core_web_sm')"
   ]
  },
  {
   "cell_type": "markdown",
   "metadata": {},
   "source": [
    "# Some imports"
   ]
  },
  {
   "cell_type": "code",
   "execution_count": 164,
   "metadata": {},
   "outputs": [],
   "source": [
    "from spacy import displacy\n",
    "# from __future__ import unicode_literals, print_function\n",
    "import random\n",
    "from pathlib import Path\n",
    "from tqdm import tqdm"
   ]
  },
  {
   "cell_type": "markdown",
   "metadata": {},
   "source": [
    "# What does the model recognise out of the box?"
   ]
  },
  {
   "cell_type": "code",
   "execution_count": 165,
   "metadata": {},
   "outputs": [],
   "source": [
    "doc = nlp(\"Who is David Doherty? Know if he trades interest rate swaps??\")"
   ]
  },
  {
   "cell_type": "code",
   "execution_count": 166,
   "metadata": {},
   "outputs": [
    {
     "name": "stdout",
     "output_type": "stream",
     "text": [
      "David Doherty 7 PERSON\n"
     ]
    }
   ],
   "source": [
    "for token in doc.ents:\n",
    "    print(token.text, token.start_char, token.label_)"
   ]
  },
  {
   "cell_type": "markdown",
   "metadata": {},
   "source": [
    "We're famous!"
   ]
  },
  {
   "cell_type": "code",
   "execution_count": 167,
   "metadata": {},
   "outputs": [
    {
     "data": {
      "text/html": [
       "<div class=\"entities\" style=\"line-height: 2.5\">Who is \n",
       "<mark class=\"entity\" style=\"background: #aa9cfc; padding: 0.45em 0.6em; margin: 0 0.25em; line-height: 1; border-radius: 0.35em; box-decoration-break: clone; -webkit-box-decoration-break: clone\">\n",
       "    David Doherty\n",
       "    <span style=\"font-size: 0.8em; font-weight: bold; line-height: 1; border-radius: 0.35em; text-transform: uppercase; vertical-align: middle; margin-left: 0.5rem\">PERSON</span>\n",
       "</mark>\n",
       "? Know if he trades interest rate swaps??</div>"
      ],
      "text/plain": [
       "<IPython.core.display.HTML object>"
      ]
     },
     "metadata": {},
     "output_type": "display_data"
    }
   ],
   "source": [
    "displacy.render(doc, style='ent', jupyter=True)"
   ]
  },
  {
   "cell_type": "markdown",
   "metadata": {},
   "source": [
    "# But DeepGreen is a product not a person...."
   ]
  },
  {
   "cell_type": "code",
   "execution_count": 189,
   "metadata": {},
   "outputs": [
    {
     "name": "stdout",
     "output_type": "stream",
     "text": [
      "Who is David Doherty? Know if he trades interest rate swaps??\n",
      "Some guy from JPM called about an interest rate swap or something??\n",
      "Anyone called you about a credit default swap today? Seems quiet\n",
      "Anyone called you about a interest rate swap today? Seems quiet\n",
      "Derivatives market are made up of many products like IRS, CDS, CDO, etc\n",
      "To hedge rates positions you can use IRS which trade with lots of liquidity\n",
      "Beyond the liquid futures market, most use IRS to position themselves for increasing yields\n",
      "Though the swap curve uses many IRS instruments, they are normally spread against liquid bond markets\n",
      "A butterfly trade is simply 3 IRS at different maturities\n",
      "Roses are red, violets are blue, IRS is for rates, CDS is for credit too\n"
     ]
    }
   ],
   "source": [
    "sentence_label_pairs = [\n",
    "    {'sentence':\"Who is David Doherty? Know if he trades interest rate swaps??\", 'labels': [{\"label\":\"interest rate swaps\", \"entity\":\"FINANCIAL_PRODUCT\"}]},\n",
    "    {'sentence':\"Some guy from JPM called about an interest rate swap or something??\", 'labels': [{\"label\":\"interest rate swap\", \"entity\":\"FINANCIAL_PRODUCT\"}]},\n",
    "    {'sentence':\"Anyone called you about a credit default swap today? Seems quiet\", 'labels': [{\"label\":\"credit default swap\", \"entity\":\"FINANCIAL_PRODUCT\"}]},\n",
    "    {'sentence':\"Anyone called you about a interest rate swap today? Seems quiet\", 'labels': [{\"label\":\"interest rate swap\", \"entity\":\"FINANCIAL_PRODUCT\"}]},\n",
    "    {'sentence':\"Derivatives market are made up of many products like IRS, CDS, CDO, etc\", 'labels': [{\"label\":\"IRS\", \"entity\":\"FINANCIAL_PRODUCT\"}, {\"label\":\"CDS\", \"entity\":\"FINANCIAL_PRODUCT\"}, {\"label\":\"CDO\", \"entity\":\"FINANCIAL_PRODUCT\"}]},\n",
    "    {'sentence':\"To hedge rates positions you can use IRS which trade with lots of liquidity\", 'labels': [{\"label\":\"IRS\", \"entity\":\"FINANCIAL_PRODUCT\"}]},\n",
    "    {'sentence':\"Beyond the liquid futures market, most use IRS to position themselves for increasing yields\", 'labels': [{\"label\":\"IRS\", \"entity\":\"FINANCIAL_PRODUCT\"}]},\n",
    "    {'sentence':\"Though the swap curve uses many IRS instruments, they are normally spread against liquid bond markets\", 'labels': [{\"label\":\"IRS\", \"entity\":\"FINANCIAL_PRODUCT\"}]},\n",
    "    {'sentence':\"A butterfly trade is simply 3 IRS at different maturities\", 'labels': [{\"label\":\"IRS\", \"entity\":\"FINANCIAL_PRODUCT\"}]},\n",
    "    {'sentence':\"Roses are red, violets are blue, IRS is for rates, CDS is for credit too\", 'labels': [{\"label\":\"IRS\", \"entity\":\"FINANCIAL_PRODUCT\"}, {\"label\":\"CDS\", \"entity\":\"FINANCIAL_PRODUCT\"}]}\n",
    "]\n",
    "\n",
    "def get_labels_for_training(sentence_label_pairs):\n",
    "    output = []\n",
    "    for pair in sentence_label_pairs:\n",
    "        entities = []\n",
    "        print(pair['sentence'])\n",
    "        for labels in pair['labels']:\n",
    "            start_index = pair['sentence'].index(labels['label'])\n",
    "            end_index = start_index + len(labels['label'])\n",
    "            entities.append((start_index, end_index, labels['entity']))\n",
    "        output.append((pair['sentence'], {'entities':entities}))\n",
    "            \n",
    "    return output\n",
    "        \n",
    "TRAIN_DATA = get_labels_for_training(sentence_label_pairs)"
   ]
  },
  {
   "cell_type": "code",
   "execution_count": 190,
   "metadata": {},
   "outputs": [
    {
     "data": {
      "text/plain": [
       "[('Who is David Doherty? Know if he trades interest rate swaps??',\n",
       "  {'entities': [(40, 59, 'FINANCIAL_PRODUCT')]}),\n",
       " ('Some guy from JPM called about an interest rate swap or something??',\n",
       "  {'entities': [(34, 52, 'FINANCIAL_PRODUCT')]}),\n",
       " ('Anyone called you about a credit default swap today? Seems quiet',\n",
       "  {'entities': [(26, 45, 'FINANCIAL_PRODUCT')]}),\n",
       " ('Anyone called you about a interest rate swap today? Seems quiet',\n",
       "  {'entities': [(26, 44, 'FINANCIAL_PRODUCT')]}),\n",
       " ('Derivatives market are made up of many products like IRS, CDS, CDO, etc',\n",
       "  {'entities': [(53, 56, 'FINANCIAL_PRODUCT'),\n",
       "    (58, 61, 'FINANCIAL_PRODUCT'),\n",
       "    (63, 66, 'FINANCIAL_PRODUCT')]})]"
      ]
     },
     "execution_count": 190,
     "metadata": {},
     "output_type": "execute_result"
    }
   ],
   "source": [
    "TRAIN_DATA[:5]"
   ]
  },
  {
   "cell_type": "code",
   "execution_count": 191,
   "metadata": {},
   "outputs": [],
   "source": [
    "ner = nlp.get_pipe('ner')"
   ]
  },
  {
   "cell_type": "code",
   "execution_count": 192,
   "metadata": {},
   "outputs": [
    {
     "data": {
      "text/plain": [
       "{'beam_density': 0.0,\n",
       " 'beam_width': 1,\n",
       " 'cnn_maxout_pieces': 3,\n",
       " 'deprecation_fixes': {'vectors_name': None},\n",
       " 'extra_labels': ['AWESOME_PRODUCT',\n",
       "  'ASSET_CLASS',\n",
       "  'FINANCIAL_PRODUCT',\n",
       "  'MARKET_DATA'],\n",
       " 'hidden_depth': 1,\n",
       " 'hidden_width': 200,\n",
       " 'hist_size': 0,\n",
       " 'hist_width': 0,\n",
       " 'maxout_pieces': 2,\n",
       " 'nr_class': 73,\n",
       " 'pretrained_dims': 0,\n",
       " 'pretrained_vectors': None,\n",
       " 'token_vector_width': 128}"
      ]
     },
     "execution_count": 192,
     "metadata": {},
     "output_type": "execute_result"
    }
   ],
   "source": [
    "ner.cfg['extra_labels'] = ['AWESOME_PRODUCT', 'ASSET_CLASS', 'FINANCIAL_PRODUCT', 'MARKET_DATA']\n",
    "ner.cfg"
   ]
  },
  {
   "cell_type": "code",
   "execution_count": 194,
   "metadata": {},
   "outputs": [
    {
     "name": "stderr",
     "output_type": "stream",
     "text": [
      "\r",
      "  0%|          | 0/10 [00:00<?, ?it/s]"
     ]
    },
    {
     "name": "stdout",
     "output_type": "stream",
     "text": [
      "Anyone called you about a credit default swap today? Seems quiet {'entities': [(26, 45, 'FINANCIAL_PRODUCT')]}\n"
     ]
    },
    {
     "name": "stderr",
     "output_type": "stream",
     "text": [
      "\r",
      " 10%|█         | 1/10 [00:00<00:03,  2.65it/s]"
     ]
    },
    {
     "name": "stdout",
     "output_type": "stream",
     "text": [
      "A butterfly trade is simply 3 IRS at different maturities {'entities': [(30, 33, 'FINANCIAL_PRODUCT')]}\n"
     ]
    },
    {
     "name": "stderr",
     "output_type": "stream",
     "text": [
      "\r",
      " 20%|██        | 2/10 [00:00<00:03,  2.33it/s]"
     ]
    },
    {
     "name": "stdout",
     "output_type": "stream",
     "text": [
      "To hedge rates positions you can use IRS which trade with lots of liquidity {'entities': [(37, 40, 'FINANCIAL_PRODUCT')]}\n"
     ]
    },
    {
     "name": "stderr",
     "output_type": "stream",
     "text": [
      " 40%|████      | 4/10 [00:01<00:02,  2.81it/s]"
     ]
    },
    {
     "name": "stdout",
     "output_type": "stream",
     "text": [
      "Who is David Doherty? Know if he trades interest rate swaps?? {'entities': [(40, 59, 'FINANCIAL_PRODUCT')]}\n",
      "Derivatives market are made up of many products like IRS, CDS, CDO, etc {'entities': [(53, 56, 'FINANCIAL_PRODUCT'), (58, 61, 'FINANCIAL_PRODUCT'), (63, 66, 'FINANCIAL_PRODUCT')]}\n"
     ]
    },
    {
     "name": "stderr",
     "output_type": "stream",
     "text": [
      "\r",
      " 50%|█████     | 5/10 [00:01<00:01,  3.15it/s]"
     ]
    },
    {
     "name": "stdout",
     "output_type": "stream",
     "text": [
      "Some guy from JPM called about an interest rate swap or something?? {'entities': [(34, 52, 'FINANCIAL_PRODUCT')]}\n"
     ]
    },
    {
     "name": "stderr",
     "output_type": "stream",
     "text": [
      "\r",
      " 60%|██████    | 6/10 [00:02<00:01,  3.08it/s]"
     ]
    },
    {
     "name": "stdout",
     "output_type": "stream",
     "text": [
      "Anyone called you about a interest rate swap today? Seems quiet {'entities': [(26, 44, 'FINANCIAL_PRODUCT')]}\n"
     ]
    },
    {
     "name": "stderr",
     "output_type": "stream",
     "text": [
      "\r",
      " 70%|███████   | 7/10 [00:02<00:01,  2.96it/s]"
     ]
    },
    {
     "name": "stdout",
     "output_type": "stream",
     "text": [
      "Roses are red, violets are blue, IRS is for rates, CDS is for credit too {'entities': [(33, 36, 'FINANCIAL_PRODUCT'), (51, 54, 'FINANCIAL_PRODUCT')]}\n"
     ]
    },
    {
     "name": "stderr",
     "output_type": "stream",
     "text": [
      "\r",
      " 80%|████████  | 8/10 [00:02<00:00,  2.75it/s]"
     ]
    },
    {
     "name": "stdout",
     "output_type": "stream",
     "text": [
      "Beyond the liquid futures market, most use IRS to position themselves for increasing yields {'entities': [(43, 46, 'FINANCIAL_PRODUCT')]}\n"
     ]
    },
    {
     "name": "stderr",
     "output_type": "stream",
     "text": [
      "\r",
      " 90%|█████████ | 9/10 [00:03<00:00,  2.49it/s]"
     ]
    },
    {
     "name": "stdout",
     "output_type": "stream",
     "text": [
      "Though the swap curve uses many IRS instruments, they are normally spread against liquid bond markets {'entities': [(32, 35, 'FINANCIAL_PRODUCT')]}\n"
     ]
    },
    {
     "name": "stderr",
     "output_type": "stream",
     "text": [
      "100%|██████████| 10/10 [00:03<00:00,  2.72it/s]\n",
      " 10%|█         | 1/10 [00:00<00:01,  5.87it/s]"
     ]
    },
    {
     "name": "stdout",
     "output_type": "stream",
     "text": [
      "Who is David Doherty? Know if he trades interest rate swaps?? {'entities': [(40, 59, 'FINANCIAL_PRODUCT')]}\n",
      "Anyone called you about a credit default swap today? Seems quiet {'entities': [(26, 45, 'FINANCIAL_PRODUCT')]}\n"
     ]
    },
    {
     "name": "stderr",
     "output_type": "stream",
     "text": [
      "\r",
      " 20%|██        | 2/10 [00:00<00:01,  5.42it/s]"
     ]
    },
    {
     "name": "stdout",
     "output_type": "stream",
     "text": [
      "Some guy from JPM called about an interest rate swap or something?? {'entities': [(34, 52, 'FINANCIAL_PRODUCT')]}\n"
     ]
    },
    {
     "name": "stderr",
     "output_type": "stream",
     "text": [
      "\r",
      " 30%|███       | 3/10 [00:00<00:01,  4.12it/s]"
     ]
    },
    {
     "name": "stdout",
     "output_type": "stream",
     "text": [
      "Anyone called you about a interest rate swap today? Seems quiet {'entities': [(26, 44, 'FINANCIAL_PRODUCT')]}\n"
     ]
    },
    {
     "name": "stderr",
     "output_type": "stream",
     "text": [
      "\r",
      " 40%|████      | 4/10 [00:01<00:01,  4.13it/s]"
     ]
    },
    {
     "name": "stdout",
     "output_type": "stream",
     "text": [
      "A butterfly trade is simply 3 IRS at different maturities {'entities': [(30, 33, 'FINANCIAL_PRODUCT')]}\n"
     ]
    },
    {
     "name": "stderr",
     "output_type": "stream",
     "text": [
      "\r",
      " 50%|█████     | 5/10 [00:01<00:01,  4.12it/s]"
     ]
    },
    {
     "name": "stdout",
     "output_type": "stream",
     "text": [
      "Roses are red, violets are blue, IRS is for rates, CDS is for credit too {'entities': [(33, 36, 'FINANCIAL_PRODUCT'), (51, 54, 'FINANCIAL_PRODUCT')]}\n"
     ]
    },
    {
     "name": "stderr",
     "output_type": "stream",
     "text": [
      "\r",
      " 60%|██████    | 6/10 [00:01<00:01,  3.14it/s]"
     ]
    },
    {
     "name": "stdout",
     "output_type": "stream",
     "text": [
      "Derivatives market are made up of many products like IRS, CDS, CDO, etc {'entities': [(53, 56, 'FINANCIAL_PRODUCT'), (58, 61, 'FINANCIAL_PRODUCT'), (63, 66, 'FINANCIAL_PRODUCT')]}\n"
     ]
    },
    {
     "name": "stderr",
     "output_type": "stream",
     "text": [
      "\r",
      " 70%|███████   | 7/10 [00:02<00:01,  2.75it/s]"
     ]
    },
    {
     "name": "stdout",
     "output_type": "stream",
     "text": [
      "Beyond the liquid futures market, most use IRS to position themselves for increasing yields {'entities': [(43, 46, 'FINANCIAL_PRODUCT')]}\n"
     ]
    },
    {
     "name": "stderr",
     "output_type": "stream",
     "text": [
      "\r",
      " 80%|████████  | 8/10 [00:02<00:00,  2.59it/s]"
     ]
    },
    {
     "name": "stdout",
     "output_type": "stream",
     "text": [
      "Though the swap curve uses many IRS instruments, they are normally spread against liquid bond markets {'entities': [(32, 35, 'FINANCIAL_PRODUCT')]}\n"
     ]
    },
    {
     "name": "stderr",
     "output_type": "stream",
     "text": [
      "\r",
      " 90%|█████████ | 9/10 [00:03<00:00,  2.60it/s]"
     ]
    },
    {
     "name": "stdout",
     "output_type": "stream",
     "text": [
      "To hedge rates positions you can use IRS which trade with lots of liquidity {'entities': [(37, 40, 'FINANCIAL_PRODUCT')]}\n"
     ]
    },
    {
     "name": "stderr",
     "output_type": "stream",
     "text": [
      "100%|██████████| 10/10 [00:03<00:00,  2.26it/s]\n",
      "  0%|          | 0/10 [00:00<?, ?it/s]"
     ]
    },
    {
     "name": "stdout",
     "output_type": "stream",
     "text": [
      "Some guy from JPM called about an interest rate swap or something?? {'entities': [(34, 52, 'FINANCIAL_PRODUCT')]}\n"
     ]
    },
    {
     "name": "stderr",
     "output_type": "stream",
     "text": [
      "\r",
      " 10%|█         | 1/10 [00:00<00:04,  2.16it/s]"
     ]
    },
    {
     "name": "stdout",
     "output_type": "stream",
     "text": [
      "Roses are red, violets are blue, IRS is for rates, CDS is for credit too {'entities': [(33, 36, 'FINANCIAL_PRODUCT'), (51, 54, 'FINANCIAL_PRODUCT')]}\n"
     ]
    },
    {
     "name": "stderr",
     "output_type": "stream",
     "text": [
      " 30%|███       | 3/10 [00:00<00:02,  2.82it/s]"
     ]
    },
    {
     "name": "stdout",
     "output_type": "stream",
     "text": [
      "A butterfly trade is simply 3 IRS at different maturities {'entities': [(30, 33, 'FINANCIAL_PRODUCT')]}\n",
      "Anyone called you about a credit default swap today? Seems quiet {'entities': [(26, 45, 'FINANCIAL_PRODUCT')]}\n"
     ]
    },
    {
     "name": "stderr",
     "output_type": "stream",
     "text": [
      "\r",
      " 40%|████      | 4/10 [00:01<00:02,  2.96it/s]"
     ]
    },
    {
     "name": "stdout",
     "output_type": "stream",
     "text": [
      "Though the swap curve uses many IRS instruments, they are normally spread against liquid bond markets {'entities': [(32, 35, 'FINANCIAL_PRODUCT')]}\n"
     ]
    },
    {
     "name": "stderr",
     "output_type": "stream",
     "text": [
      "\r",
      " 50%|█████     | 5/10 [00:01<00:01,  3.05it/s]"
     ]
    },
    {
     "name": "stdout",
     "output_type": "stream",
     "text": [
      "Derivatives market are made up of many products like IRS, CDS, CDO, etc {'entities': [(53, 56, 'FINANCIAL_PRODUCT'), (58, 61, 'FINANCIAL_PRODUCT'), (63, 66, 'FINANCIAL_PRODUCT')]}\n"
     ]
    },
    {
     "name": "stderr",
     "output_type": "stream",
     "text": [
      " 70%|███████   | 7/10 [00:02<00:00,  3.36it/s]"
     ]
    },
    {
     "name": "stdout",
     "output_type": "stream",
     "text": [
      "To hedge rates positions you can use IRS which trade with lots of liquidity {'entities': [(37, 40, 'FINANCIAL_PRODUCT')]}\n",
      "Who is David Doherty? Know if he trades interest rate swaps?? {'entities': [(40, 59, 'FINANCIAL_PRODUCT')]}\n"
     ]
    },
    {
     "name": "stderr",
     "output_type": "stream",
     "text": [
      "\r",
      " 80%|████████  | 8/10 [00:02<00:00,  3.07it/s]"
     ]
    },
    {
     "name": "stdout",
     "output_type": "stream",
     "text": [
      "Anyone called you about a interest rate swap today? Seems quiet {'entities': [(26, 44, 'FINANCIAL_PRODUCT')]}\n"
     ]
    },
    {
     "name": "stderr",
     "output_type": "stream",
     "text": [
      "\r",
      " 90%|█████████ | 9/10 [00:02<00:00,  3.05it/s]"
     ]
    },
    {
     "name": "stdout",
     "output_type": "stream",
     "text": [
      "Beyond the liquid futures market, most use IRS to position themselves for increasing yields {'entities': [(43, 46, 'FINANCIAL_PRODUCT')]}\n"
     ]
    },
    {
     "name": "stderr",
     "output_type": "stream",
     "text": [
      "100%|██████████| 10/10 [00:03<00:00,  2.78it/s]\n",
      "  0%|          | 0/10 [00:00<?, ?it/s]"
     ]
    },
    {
     "name": "stdout",
     "output_type": "stream",
     "text": [
      "To hedge rates positions you can use IRS which trade with lots of liquidity {'entities': [(37, 40, 'FINANCIAL_PRODUCT')]}\n"
     ]
    },
    {
     "name": "stderr",
     "output_type": "stream",
     "text": [
      "\r",
      " 10%|█         | 1/10 [00:00<00:02,  3.17it/s]"
     ]
    },
    {
     "name": "stdout",
     "output_type": "stream",
     "text": [
      "Some guy from JPM called about an interest rate swap or something?? {'entities': [(34, 52, 'FINANCIAL_PRODUCT')]}\n"
     ]
    },
    {
     "name": "stderr",
     "output_type": "stream",
     "text": [
      "\r",
      " 20%|██        | 2/10 [00:00<00:02,  3.31it/s]"
     ]
    },
    {
     "name": "stdout",
     "output_type": "stream",
     "text": [
      "Roses are red, violets are blue, IRS is for rates, CDS is for credit too {'entities': [(33, 36, 'FINANCIAL_PRODUCT'), (51, 54, 'FINANCIAL_PRODUCT')]}\n"
     ]
    },
    {
     "name": "stderr",
     "output_type": "stream",
     "text": [
      "\r",
      " 30%|███       | 3/10 [00:00<00:01,  3.63it/s]"
     ]
    },
    {
     "name": "stdout",
     "output_type": "stream",
     "text": [
      "Beyond the liquid futures market, most use IRS to position themselves for increasing yields {'entities': [(43, 46, 'FINANCIAL_PRODUCT')]}\n"
     ]
    },
    {
     "name": "stderr",
     "output_type": "stream",
     "text": [
      " 50%|█████     | 5/10 [00:01<00:01,  4.28it/s]"
     ]
    },
    {
     "name": "stdout",
     "output_type": "stream",
     "text": [
      "Anyone called you about a interest rate swap today? Seems quiet {'entities': [(26, 44, 'FINANCIAL_PRODUCT')]}\n",
      "Derivatives market are made up of many products like IRS, CDS, CDO, etc {'entities': [(53, 56, 'FINANCIAL_PRODUCT'), (58, 61, 'FINANCIAL_PRODUCT'), (63, 66, 'FINANCIAL_PRODUCT')]}\n"
     ]
    },
    {
     "name": "stderr",
     "output_type": "stream",
     "text": [
      "\r",
      " 60%|██████    | 6/10 [00:01<00:01,  2.88it/s]"
     ]
    },
    {
     "name": "stdout",
     "output_type": "stream",
     "text": [
      "A butterfly trade is simply 3 IRS at different maturities {'entities': [(30, 33, 'FINANCIAL_PRODUCT')]}\n"
     ]
    },
    {
     "name": "stderr",
     "output_type": "stream",
     "text": [
      "\r",
      " 70%|███████   | 7/10 [00:02<00:01,  2.70it/s]"
     ]
    },
    {
     "name": "stdout",
     "output_type": "stream",
     "text": [
      "Who is David Doherty? Know if he trades interest rate swaps?? {'entities': [(40, 59, 'FINANCIAL_PRODUCT')]}\n"
     ]
    },
    {
     "name": "stderr",
     "output_type": "stream",
     "text": [
      "\r",
      " 80%|████████  | 8/10 [00:02<00:00,  3.12it/s]"
     ]
    },
    {
     "name": "stdout",
     "output_type": "stream",
     "text": [
      "Anyone called you about a credit default swap today? Seems quiet {'entities': [(26, 45, 'FINANCIAL_PRODUCT')]}\n"
     ]
    },
    {
     "name": "stderr",
     "output_type": "stream",
     "text": [
      "\r",
      " 90%|█████████ | 9/10 [00:02<00:00,  2.89it/s]"
     ]
    },
    {
     "name": "stdout",
     "output_type": "stream",
     "text": [
      "Though the swap curve uses many IRS instruments, they are normally spread against liquid bond markets {'entities': [(32, 35, 'FINANCIAL_PRODUCT')]}\n"
     ]
    },
    {
     "name": "stderr",
     "output_type": "stream",
     "text": [
      "100%|██████████| 10/10 [00:03<00:00,  2.93it/s]\n",
      "  0%|          | 0/10 [00:00<?, ?it/s]"
     ]
    },
    {
     "name": "stdout",
     "output_type": "stream",
     "text": [
      "Though the swap curve uses many IRS instruments, they are normally spread against liquid bond markets {'entities': [(32, 35, 'FINANCIAL_PRODUCT')]}\n"
     ]
    },
    {
     "name": "stderr",
     "output_type": "stream",
     "text": [
      "\r",
      " 10%|█         | 1/10 [00:00<00:05,  1.60it/s]"
     ]
    },
    {
     "name": "stdout",
     "output_type": "stream",
     "text": [
      "Roses are red, violets are blue, IRS is for rates, CDS is for credit too {'entities': [(33, 36, 'FINANCIAL_PRODUCT'), (51, 54, 'FINANCIAL_PRODUCT')]}\n"
     ]
    },
    {
     "name": "stderr",
     "output_type": "stream",
     "text": [
      "\r",
      " 20%|██        | 2/10 [00:01<00:04,  1.76it/s]"
     ]
    },
    {
     "name": "stdout",
     "output_type": "stream",
     "text": [
      "A butterfly trade is simply 3 IRS at different maturities {'entities': [(30, 33, 'FINANCIAL_PRODUCT')]}\n"
     ]
    },
    {
     "name": "stderr",
     "output_type": "stream",
     "text": [
      "\r",
      " 30%|███       | 3/10 [00:01<00:03,  2.15it/s]"
     ]
    },
    {
     "name": "stdout",
     "output_type": "stream",
     "text": [
      "Some guy from JPM called about an interest rate swap or something?? {'entities': [(34, 52, 'FINANCIAL_PRODUCT')]}\n"
     ]
    },
    {
     "name": "stderr",
     "output_type": "stream",
     "text": [
      "\r",
      " 40%|████      | 4/10 [00:01<00:02,  2.23it/s]"
     ]
    },
    {
     "name": "stdout",
     "output_type": "stream",
     "text": [
      "Anyone called you about a credit default swap today? Seems quiet {'entities': [(26, 45, 'FINANCIAL_PRODUCT')]}\n"
     ]
    },
    {
     "name": "stderr",
     "output_type": "stream",
     "text": [
      "\r",
      " 50%|█████     | 5/10 [00:02<00:02,  2.22it/s]"
     ]
    },
    {
     "name": "stdout",
     "output_type": "stream",
     "text": [
      "Anyone called you about a interest rate swap today? Seems quiet {'entities': [(26, 44, 'FINANCIAL_PRODUCT')]}\n"
     ]
    },
    {
     "name": "stderr",
     "output_type": "stream",
     "text": [
      "\r",
      " 60%|██████    | 6/10 [00:02<00:01,  2.57it/s]"
     ]
    },
    {
     "name": "stdout",
     "output_type": "stream",
     "text": [
      "Derivatives market are made up of many products like IRS, CDS, CDO, etc {'entities': [(53, 56, 'FINANCIAL_PRODUCT'), (58, 61, 'FINANCIAL_PRODUCT'), (63, 66, 'FINANCIAL_PRODUCT')]}\n"
     ]
    },
    {
     "name": "stderr",
     "output_type": "stream",
     "text": [
      "\r",
      " 70%|███████   | 7/10 [00:02<00:01,  2.54it/s]"
     ]
    },
    {
     "name": "stdout",
     "output_type": "stream",
     "text": [
      "To hedge rates positions you can use IRS which trade with lots of liquidity {'entities': [(37, 40, 'FINANCIAL_PRODUCT')]}\n"
     ]
    },
    {
     "name": "stderr",
     "output_type": "stream",
     "text": [
      "\r",
      " 80%|████████  | 8/10 [00:03<00:00,  2.78it/s]"
     ]
    },
    {
     "name": "stdout",
     "output_type": "stream",
     "text": [
      "Beyond the liquid futures market, most use IRS to position themselves for increasing yields {'entities': [(43, 46, 'FINANCIAL_PRODUCT')]}\n"
     ]
    },
    {
     "name": "stderr",
     "output_type": "stream",
     "text": [
      "\r",
      " 90%|█████████ | 9/10 [00:03<00:00,  2.23it/s]"
     ]
    },
    {
     "name": "stdout",
     "output_type": "stream",
     "text": [
      "Who is David Doherty? Know if he trades interest rate swaps?? {'entities': [(40, 59, 'FINANCIAL_PRODUCT')]}\n"
     ]
    },
    {
     "name": "stderr",
     "output_type": "stream",
     "text": [
      "100%|██████████| 10/10 [00:04<00:00,  2.49it/s]\n",
      "  0%|          | 0/10 [00:00<?, ?it/s]"
     ]
    },
    {
     "name": "stdout",
     "output_type": "stream",
     "text": [
      "Though the swap curve uses many IRS instruments, they are normally spread against liquid bond markets {'entities': [(32, 35, 'FINANCIAL_PRODUCT')]}\n"
     ]
    },
    {
     "name": "stderr",
     "output_type": "stream",
     "text": [
      "\r",
      " 10%|█         | 1/10 [00:00<00:03,  2.91it/s]"
     ]
    },
    {
     "name": "stdout",
     "output_type": "stream",
     "text": [
      "Roses are red, violets are blue, IRS is for rates, CDS is for credit too {'entities': [(33, 36, 'FINANCIAL_PRODUCT'), (51, 54, 'FINANCIAL_PRODUCT')]}\n"
     ]
    },
    {
     "name": "stderr",
     "output_type": "stream",
     "text": [
      "\r",
      " 20%|██        | 2/10 [00:00<00:02,  3.03it/s]"
     ]
    },
    {
     "name": "stdout",
     "output_type": "stream",
     "text": [
      "Anyone called you about a interest rate swap today? Seems quiet {'entities': [(26, 44, 'FINANCIAL_PRODUCT')]}\n"
     ]
    },
    {
     "name": "stderr",
     "output_type": "stream",
     "text": [
      "\r",
      " 30%|███       | 3/10 [00:00<00:02,  3.20it/s]"
     ]
    },
    {
     "name": "stdout",
     "output_type": "stream",
     "text": [
      "To hedge rates positions you can use IRS which trade with lots of liquidity {'entities': [(37, 40, 'FINANCIAL_PRODUCT')]}\n"
     ]
    },
    {
     "name": "stderr",
     "output_type": "stream",
     "text": [
      "\r",
      " 40%|████      | 4/10 [00:01<00:02,  2.99it/s]"
     ]
    },
    {
     "name": "stdout",
     "output_type": "stream",
     "text": [
      "A butterfly trade is simply 3 IRS at different maturities {'entities': [(30, 33, 'FINANCIAL_PRODUCT')]}\n"
     ]
    },
    {
     "name": "stderr",
     "output_type": "stream",
     "text": [
      "\r",
      " 50%|█████     | 5/10 [00:01<00:01,  3.08it/s]"
     ]
    },
    {
     "name": "stdout",
     "output_type": "stream",
     "text": [
      "Beyond the liquid futures market, most use IRS to position themselves for increasing yields {'entities': [(43, 46, 'FINANCIAL_PRODUCT')]}\n"
     ]
    },
    {
     "name": "stderr",
     "output_type": "stream",
     "text": [
      "\r",
      " 60%|██████    | 6/10 [00:02<00:01,  2.47it/s]"
     ]
    },
    {
     "name": "stdout",
     "output_type": "stream",
     "text": [
      "Derivatives market are made up of many products like IRS, CDS, CDO, etc {'entities': [(53, 56, 'FINANCIAL_PRODUCT'), (58, 61, 'FINANCIAL_PRODUCT'), (63, 66, 'FINANCIAL_PRODUCT')]}\n"
     ]
    },
    {
     "name": "stderr",
     "output_type": "stream",
     "text": [
      " 80%|████████  | 8/10 [00:02<00:00,  3.13it/s]"
     ]
    },
    {
     "name": "stdout",
     "output_type": "stream",
     "text": [
      "Who is David Doherty? Know if he trades interest rate swaps?? {'entities': [(40, 59, 'FINANCIAL_PRODUCT')]}\n",
      "Anyone called you about a credit default swap today? Seems quiet {'entities': [(26, 45, 'FINANCIAL_PRODUCT')]}\n"
     ]
    },
    {
     "name": "stderr",
     "output_type": "stream",
     "text": [
      "\r",
      " 90%|█████████ | 9/10 [00:02<00:00,  3.37it/s]"
     ]
    },
    {
     "name": "stdout",
     "output_type": "stream",
     "text": [
      "Some guy from JPM called about an interest rate swap or something?? {'entities': [(34, 52, 'FINANCIAL_PRODUCT')]}\n"
     ]
    },
    {
     "name": "stderr",
     "output_type": "stream",
     "text": [
      "100%|██████████| 10/10 [00:03<00:00,  3.67it/s]\n",
      "  0%|          | 0/10 [00:00<?, ?it/s]"
     ]
    },
    {
     "name": "stdout",
     "output_type": "stream",
     "text": [
      "To hedge rates positions you can use IRS which trade with lots of liquidity {'entities': [(37, 40, 'FINANCIAL_PRODUCT')]}\n"
     ]
    },
    {
     "name": "stderr",
     "output_type": "stream",
     "text": [
      "\r",
      " 10%|█         | 1/10 [00:00<00:02,  3.56it/s]"
     ]
    },
    {
     "name": "stdout",
     "output_type": "stream",
     "text": [
      "Some guy from JPM called about an interest rate swap or something?? {'entities': [(34, 52, 'FINANCIAL_PRODUCT')]}\n"
     ]
    },
    {
     "name": "stderr",
     "output_type": "stream",
     "text": [
      "\r",
      " 20%|██        | 2/10 [00:00<00:02,  3.35it/s]"
     ]
    },
    {
     "name": "stdout",
     "output_type": "stream",
     "text": [
      "Beyond the liquid futures market, most use IRS to position themselves for increasing yields {'entities': [(43, 46, 'FINANCIAL_PRODUCT')]}\n"
     ]
    },
    {
     "name": "stderr",
     "output_type": "stream",
     "text": [
      "\r",
      " 30%|███       | 3/10 [00:00<00:01,  3.53it/s]"
     ]
    },
    {
     "name": "stdout",
     "output_type": "stream",
     "text": [
      "Roses are red, violets are blue, IRS is for rates, CDS is for credit too {'entities': [(33, 36, 'FINANCIAL_PRODUCT'), (51, 54, 'FINANCIAL_PRODUCT')]}\n"
     ]
    },
    {
     "name": "stderr",
     "output_type": "stream",
     "text": [
      "\r",
      " 40%|████      | 4/10 [00:01<00:01,  3.19it/s]"
     ]
    },
    {
     "name": "stdout",
     "output_type": "stream",
     "text": [
      "A butterfly trade is simply 3 IRS at different maturities {'entities': [(30, 33, 'FINANCIAL_PRODUCT')]}\n"
     ]
    },
    {
     "name": "stderr",
     "output_type": "stream",
     "text": [
      "\r",
      " 50%|█████     | 5/10 [00:01<00:01,  3.00it/s]"
     ]
    },
    {
     "name": "stdout",
     "output_type": "stream",
     "text": [
      "Derivatives market are made up of many products like IRS, CDS, CDO, etc {'entities': [(53, 56, 'FINANCIAL_PRODUCT'), (58, 61, 'FINANCIAL_PRODUCT'), (63, 66, 'FINANCIAL_PRODUCT')]}\n"
     ]
    },
    {
     "name": "stderr",
     "output_type": "stream",
     "text": [
      "\r",
      " 60%|██████    | 6/10 [00:01<00:01,  2.99it/s]"
     ]
    },
    {
     "name": "stdout",
     "output_type": "stream",
     "text": [
      "Though the swap curve uses many IRS instruments, they are normally spread against liquid bond markets {'entities': [(32, 35, 'FINANCIAL_PRODUCT')]}\n"
     ]
    },
    {
     "name": "stderr",
     "output_type": "stream",
     "text": [
      "\r",
      " 70%|███████   | 7/10 [00:02<00:01,  2.39it/s]"
     ]
    },
    {
     "name": "stdout",
     "output_type": "stream",
     "text": [
      "Anyone called you about a credit default swap today? Seems quiet {'entities': [(26, 45, 'FINANCIAL_PRODUCT')]}\n"
     ]
    },
    {
     "name": "stderr",
     "output_type": "stream",
     "text": [
      "\r",
      " 80%|████████  | 8/10 [00:03<00:00,  2.23it/s]"
     ]
    },
    {
     "name": "stdout",
     "output_type": "stream",
     "text": [
      "Who is David Doherty? Know if he trades interest rate swaps?? {'entities': [(40, 59, 'FINANCIAL_PRODUCT')]}\n"
     ]
    },
    {
     "name": "stderr",
     "output_type": "stream",
     "text": [
      "\r",
      " 90%|█████████ | 9/10 [00:03<00:00,  2.23it/s]"
     ]
    },
    {
     "name": "stdout",
     "output_type": "stream",
     "text": [
      "Anyone called you about a interest rate swap today? Seems quiet {'entities': [(26, 44, 'FINANCIAL_PRODUCT')]}\n"
     ]
    },
    {
     "name": "stderr",
     "output_type": "stream",
     "text": [
      "100%|██████████| 10/10 [00:03<00:00,  2.30it/s]\n",
      "  0%|          | 0/10 [00:00<?, ?it/s]"
     ]
    },
    {
     "name": "stdout",
     "output_type": "stream",
     "text": [
      "Roses are red, violets are blue, IRS is for rates, CDS is for credit too {'entities': [(33, 36, 'FINANCIAL_PRODUCT'), (51, 54, 'FINANCIAL_PRODUCT')]}\n"
     ]
    },
    {
     "name": "stderr",
     "output_type": "stream",
     "text": [
      "\r",
      " 10%|█         | 1/10 [00:00<00:03,  2.85it/s]"
     ]
    },
    {
     "name": "stdout",
     "output_type": "stream",
     "text": [
      "Who is David Doherty? Know if he trades interest rate swaps?? {'entities': [(40, 59, 'FINANCIAL_PRODUCT')]}\n"
     ]
    },
    {
     "name": "stderr",
     "output_type": "stream",
     "text": [
      "\r",
      " 20%|██        | 2/10 [00:00<00:03,  2.42it/s]"
     ]
    },
    {
     "name": "stdout",
     "output_type": "stream",
     "text": [
      "Some guy from JPM called about an interest rate swap or something?? {'entities': [(34, 52, 'FINANCIAL_PRODUCT')]}\n"
     ]
    },
    {
     "name": "stderr",
     "output_type": "stream",
     "text": [
      "\r",
      " 30%|███       | 3/10 [00:01<00:03,  2.23it/s]"
     ]
    },
    {
     "name": "stdout",
     "output_type": "stream",
     "text": [
      "Derivatives market are made up of many products like IRS, CDS, CDO, etc {'entities': [(53, 56, 'FINANCIAL_PRODUCT'), (58, 61, 'FINANCIAL_PRODUCT'), (63, 66, 'FINANCIAL_PRODUCT')]}\n"
     ]
    },
    {
     "name": "stderr",
     "output_type": "stream",
     "text": [
      "\r",
      " 40%|████      | 4/10 [00:01<00:02,  2.31it/s]"
     ]
    },
    {
     "name": "stdout",
     "output_type": "stream",
     "text": [
      "Though the swap curve uses many IRS instruments, they are normally spread against liquid bond markets {'entities': [(32, 35, 'FINANCIAL_PRODUCT')]}\n"
     ]
    },
    {
     "name": "stderr",
     "output_type": "stream",
     "text": [
      "\r",
      " 50%|█████     | 5/10 [00:02<00:02,  2.15it/s]"
     ]
    },
    {
     "name": "stdout",
     "output_type": "stream",
     "text": [
      "Anyone called you about a interest rate swap today? Seems quiet {'entities': [(26, 44, 'FINANCIAL_PRODUCT')]}\n"
     ]
    },
    {
     "name": "stderr",
     "output_type": "stream",
     "text": [
      "\r",
      " 60%|██████    | 6/10 [00:02<00:01,  2.07it/s]"
     ]
    },
    {
     "name": "stdout",
     "output_type": "stream",
     "text": [
      "Beyond the liquid futures market, most use IRS to position themselves for increasing yields {'entities': [(43, 46, 'FINANCIAL_PRODUCT')]}\n"
     ]
    },
    {
     "name": "stderr",
     "output_type": "stream",
     "text": [
      "\r",
      " 70%|███████   | 7/10 [00:03<00:01,  1.70it/s]"
     ]
    },
    {
     "name": "stdout",
     "output_type": "stream",
     "text": [
      "A butterfly trade is simply 3 IRS at different maturities {'entities': [(30, 33, 'FINANCIAL_PRODUCT')]}\n"
     ]
    },
    {
     "name": "stderr",
     "output_type": "stream",
     "text": [
      "\r",
      " 80%|████████  | 8/10 [00:04<00:01,  1.87it/s]"
     ]
    },
    {
     "name": "stdout",
     "output_type": "stream",
     "text": [
      "To hedge rates positions you can use IRS which trade with lots of liquidity {'entities': [(37, 40, 'FINANCIAL_PRODUCT')]}\n"
     ]
    },
    {
     "name": "stderr",
     "output_type": "stream",
     "text": [
      "\r",
      " 90%|█████████ | 9/10 [00:04<00:00,  2.17it/s]"
     ]
    },
    {
     "name": "stdout",
     "output_type": "stream",
     "text": [
      "Anyone called you about a credit default swap today? Seems quiet {'entities': [(26, 45, 'FINANCIAL_PRODUCT')]}\n"
     ]
    },
    {
     "name": "stderr",
     "output_type": "stream",
     "text": [
      "100%|██████████| 10/10 [00:04<00:00,  2.23it/s]\n",
      "  0%|          | 0/10 [00:00<?, ?it/s]"
     ]
    },
    {
     "name": "stdout",
     "output_type": "stream",
     "text": [
      "A butterfly trade is simply 3 IRS at different maturities {'entities': [(30, 33, 'FINANCIAL_PRODUCT')]}\n"
     ]
    },
    {
     "name": "stderr",
     "output_type": "stream",
     "text": [
      "\r",
      " 10%|█         | 1/10 [00:00<00:04,  1.88it/s]"
     ]
    },
    {
     "name": "stdout",
     "output_type": "stream",
     "text": [
      "Though the swap curve uses many IRS instruments, they are normally spread against liquid bond markets {'entities': [(32, 35, 'FINANCIAL_PRODUCT')]}\n"
     ]
    },
    {
     "name": "stderr",
     "output_type": "stream",
     "text": [
      "\r",
      " 20%|██        | 2/10 [00:01<00:05,  1.59it/s]"
     ]
    },
    {
     "name": "stdout",
     "output_type": "stream",
     "text": [
      "Anyone called you about a credit default swap today? Seems quiet {'entities': [(26, 45, 'FINANCIAL_PRODUCT')]}\n"
     ]
    },
    {
     "name": "stderr",
     "output_type": "stream",
     "text": [
      "\r",
      " 30%|███       | 3/10 [00:01<00:03,  1.85it/s]"
     ]
    },
    {
     "name": "stdout",
     "output_type": "stream",
     "text": [
      "Who is David Doherty? Know if he trades interest rate swaps?? {'entities': [(40, 59, 'FINANCIAL_PRODUCT')]}\n"
     ]
    },
    {
     "name": "stderr",
     "output_type": "stream",
     "text": [
      "\r",
      " 40%|████      | 4/10 [00:01<00:02,  2.19it/s]"
     ]
    },
    {
     "name": "stdout",
     "output_type": "stream",
     "text": [
      "To hedge rates positions you can use IRS which trade with lots of liquidity {'entities': [(37, 40, 'FINANCIAL_PRODUCT')]}\n"
     ]
    },
    {
     "name": "stderr",
     "output_type": "stream",
     "text": [
      "\r",
      " 50%|█████     | 5/10 [00:02<00:02,  2.17it/s]"
     ]
    },
    {
     "name": "stdout",
     "output_type": "stream",
     "text": [
      "Anyone called you about a interest rate swap today? Seems quiet {'entities': [(26, 44, 'FINANCIAL_PRODUCT')]}\n"
     ]
    },
    {
     "name": "stderr",
     "output_type": "stream",
     "text": [
      "\r",
      " 60%|██████    | 6/10 [00:02<00:01,  2.49it/s]"
     ]
    },
    {
     "name": "stdout",
     "output_type": "stream",
     "text": [
      "Roses are red, violets are blue, IRS is for rates, CDS is for credit too {'entities': [(33, 36, 'FINANCIAL_PRODUCT'), (51, 54, 'FINANCIAL_PRODUCT')]}\n"
     ]
    },
    {
     "name": "stderr",
     "output_type": "stream",
     "text": [
      "\r",
      " 70%|███████   | 7/10 [00:02<00:01,  2.73it/s]"
     ]
    },
    {
     "name": "stdout",
     "output_type": "stream",
     "text": [
      "Derivatives market are made up of many products like IRS, CDS, CDO, etc {'entities': [(53, 56, 'FINANCIAL_PRODUCT'), (58, 61, 'FINANCIAL_PRODUCT'), (63, 66, 'FINANCIAL_PRODUCT')]}\n"
     ]
    },
    {
     "name": "stderr",
     "output_type": "stream",
     "text": [
      "\r",
      " 80%|████████  | 8/10 [00:03<00:00,  2.54it/s]"
     ]
    },
    {
     "name": "stdout",
     "output_type": "stream",
     "text": [
      "Some guy from JPM called about an interest rate swap or something?? {'entities': [(34, 52, 'FINANCIAL_PRODUCT')]}\n"
     ]
    },
    {
     "name": "stderr",
     "output_type": "stream",
     "text": [
      "100%|██████████| 10/10 [00:03<00:00,  3.39it/s]\n",
      "  0%|          | 0/10 [00:00<?, ?it/s]"
     ]
    },
    {
     "name": "stdout",
     "output_type": "stream",
     "text": [
      "Beyond the liquid futures market, most use IRS to position themselves for increasing yields {'entities': [(43, 46, 'FINANCIAL_PRODUCT')]}\n",
      "A butterfly trade is simply 3 IRS at different maturities {'entities': [(30, 33, 'FINANCIAL_PRODUCT')]}\n"
     ]
    },
    {
     "name": "stderr",
     "output_type": "stream",
     "text": [
      "\r",
      " 10%|█         | 1/10 [00:00<00:01,  7.71it/s]"
     ]
    },
    {
     "name": "stdout",
     "output_type": "stream",
     "text": [
      "Derivatives market are made up of many products like IRS, CDS, CDO, etc {'entities': [(53, 56, 'FINANCIAL_PRODUCT'), (58, 61, 'FINANCIAL_PRODUCT'), (63, 66, 'FINANCIAL_PRODUCT')]}\n"
     ]
    },
    {
     "name": "stderr",
     "output_type": "stream",
     "text": [
      "\r",
      " 20%|██        | 2/10 [00:00<00:01,  5.76it/s]"
     ]
    },
    {
     "name": "stdout",
     "output_type": "stream",
     "text": [
      "Anyone called you about a credit default swap today? Seems quiet {'entities': [(26, 45, 'FINANCIAL_PRODUCT')]}\n"
     ]
    },
    {
     "name": "stderr",
     "output_type": "stream",
     "text": [
      "\r",
      " 30%|███       | 3/10 [00:00<00:01,  4.18it/s]"
     ]
    },
    {
     "name": "stdout",
     "output_type": "stream",
     "text": [
      "To hedge rates positions you can use IRS which trade with lots of liquidity {'entities': [(37, 40, 'FINANCIAL_PRODUCT')]}\n"
     ]
    },
    {
     "name": "stderr",
     "output_type": "stream",
     "text": [
      "\r",
      " 40%|████      | 4/10 [00:01<00:02,  2.92it/s]"
     ]
    },
    {
     "name": "stdout",
     "output_type": "stream",
     "text": [
      "Though the swap curve uses many IRS instruments, they are normally spread against liquid bond markets {'entities': [(32, 35, 'FINANCIAL_PRODUCT')]}\n"
     ]
    },
    {
     "name": "stderr",
     "output_type": "stream",
     "text": [
      "\r",
      " 50%|█████     | 5/10 [00:02<00:02,  2.31it/s]"
     ]
    },
    {
     "name": "stdout",
     "output_type": "stream",
     "text": [
      "Anyone called you about a interest rate swap today? Seems quiet {'entities': [(26, 44, 'FINANCIAL_PRODUCT')]}\n"
     ]
    },
    {
     "name": "stderr",
     "output_type": "stream",
     "text": [
      "\r",
      " 60%|██████    | 6/10 [00:02<00:01,  2.46it/s]"
     ]
    },
    {
     "name": "stdout",
     "output_type": "stream",
     "text": [
      "Beyond the liquid futures market, most use IRS to position themselves for increasing yields {'entities': [(43, 46, 'FINANCIAL_PRODUCT')]}\n"
     ]
    },
    {
     "name": "stderr",
     "output_type": "stream",
     "text": [
      "\r",
      " 70%|███████   | 7/10 [00:02<00:01,  2.38it/s]"
     ]
    },
    {
     "name": "stdout",
     "output_type": "stream",
     "text": [
      "Roses are red, violets are blue, IRS is for rates, CDS is for credit too {'entities': [(33, 36, 'FINANCIAL_PRODUCT'), (51, 54, 'FINANCIAL_PRODUCT')]}\n"
     ]
    },
    {
     "name": "stderr",
     "output_type": "stream",
     "text": [
      "\r",
      " 80%|████████  | 8/10 [00:03<00:00,  2.63it/s]"
     ]
    },
    {
     "name": "stdout",
     "output_type": "stream",
     "text": [
      "Some guy from JPM called about an interest rate swap or something?? {'entities': [(34, 52, 'FINANCIAL_PRODUCT')]}\n"
     ]
    },
    {
     "name": "stderr",
     "output_type": "stream",
     "text": [
      "\r",
      " 90%|█████████ | 9/10 [00:03<00:00,  2.25it/s]"
     ]
    },
    {
     "name": "stdout",
     "output_type": "stream",
     "text": [
      "Who is David Doherty? Know if he trades interest rate swaps?? {'entities': [(40, 59, 'FINANCIAL_PRODUCT')]}\n"
     ]
    },
    {
     "name": "stderr",
     "output_type": "stream",
     "text": [
      "100%|██████████| 10/10 [00:04<00:00,  2.42it/s]\n",
      " 10%|█         | 1/10 [00:00<00:01,  5.10it/s]"
     ]
    },
    {
     "name": "stdout",
     "output_type": "stream",
     "text": [
      "To hedge rates positions you can use IRS which trade with lots of liquidity {'entities': [(37, 40, 'FINANCIAL_PRODUCT')]}\n",
      "Though the swap curve uses many IRS instruments, they are normally spread against liquid bond markets {'entities': [(32, 35, 'FINANCIAL_PRODUCT')]}\n"
     ]
    },
    {
     "name": "stderr",
     "output_type": "stream",
     "text": [
      " 30%|███       | 3/10 [00:00<00:01,  4.28it/s]"
     ]
    },
    {
     "name": "stdout",
     "output_type": "stream",
     "text": [
      "Who is David Doherty? Know if he trades interest rate swaps?? {'entities': [(40, 59, 'FINANCIAL_PRODUCT')]}\n",
      "Anyone called you about a credit default swap today? Seems quiet {'entities': [(26, 45, 'FINANCIAL_PRODUCT')]}\n"
     ]
    },
    {
     "name": "stderr",
     "output_type": "stream",
     "text": [
      " 50%|█████     | 5/10 [00:01<00:00,  5.19it/s]"
     ]
    },
    {
     "name": "stdout",
     "output_type": "stream",
     "text": [
      "Some guy from JPM called about an interest rate swap or something?? {'entities': [(34, 52, 'FINANCIAL_PRODUCT')]}\n",
      "A butterfly trade is simply 3 IRS at different maturities {'entities': [(30, 33, 'FINANCIAL_PRODUCT')]}\n"
     ]
    },
    {
     "name": "stderr",
     "output_type": "stream",
     "text": [
      " 70%|███████   | 7/10 [00:01<00:00,  6.29it/s]"
     ]
    },
    {
     "name": "stdout",
     "output_type": "stream",
     "text": [
      "Anyone called you about a interest rate swap today? Seems quiet {'entities': [(26, 44, 'FINANCIAL_PRODUCT')]}\n",
      "Beyond the liquid futures market, most use IRS to position themselves for increasing yields {'entities': [(43, 46, 'FINANCIAL_PRODUCT')]}\n"
     ]
    },
    {
     "name": "stderr",
     "output_type": "stream",
     "text": [
      " 90%|█████████ | 9/10 [00:01<00:00,  6.72it/s]"
     ]
    },
    {
     "name": "stdout",
     "output_type": "stream",
     "text": [
      "Derivatives market are made up of many products like IRS, CDS, CDO, etc {'entities': [(53, 56, 'FINANCIAL_PRODUCT'), (58, 61, 'FINANCIAL_PRODUCT'), (63, 66, 'FINANCIAL_PRODUCT')]}\n",
      "Roses are red, violets are blue, IRS is for rates, CDS is for credit too {'entities': [(33, 36, 'FINANCIAL_PRODUCT'), (51, 54, 'FINANCIAL_PRODUCT')]}\n"
     ]
    },
    {
     "name": "stderr",
     "output_type": "stream",
     "text": [
      "100%|██████████| 10/10 [00:01<00:00,  6.23it/s]\n",
      " 10%|█         | 1/10 [00:00<00:01,  4.93it/s]"
     ]
    },
    {
     "name": "stdout",
     "output_type": "stream",
     "text": [
      "To hedge rates positions you can use IRS which trade with lots of liquidity {'entities': [(37, 40, 'FINANCIAL_PRODUCT')]}\n",
      "A butterfly trade is simply 3 IRS at different maturities {'entities': [(30, 33, 'FINANCIAL_PRODUCT')]}\n"
     ]
    },
    {
     "name": "stderr",
     "output_type": "stream",
     "text": [
      " 30%|███       | 3/10 [00:00<00:01,  5.24it/s]"
     ]
    },
    {
     "name": "stdout",
     "output_type": "stream",
     "text": [
      "Derivatives market are made up of many products like IRS, CDS, CDO, etc {'entities': [(53, 56, 'FINANCIAL_PRODUCT'), (58, 61, 'FINANCIAL_PRODUCT'), (63, 66, 'FINANCIAL_PRODUCT')]}\n",
      "Though the swap curve uses many IRS instruments, they are normally spread against liquid bond markets {'entities': [(32, 35, 'FINANCIAL_PRODUCT')]}\n"
     ]
    },
    {
     "name": "stderr",
     "output_type": "stream",
     "text": [
      "\r",
      " 40%|████      | 4/10 [00:00<00:01,  4.27it/s]"
     ]
    },
    {
     "name": "stdout",
     "output_type": "stream",
     "text": [
      "Who is David Doherty? Know if he trades interest rate swaps?? {'entities': [(40, 59, 'FINANCIAL_PRODUCT')]}\n"
     ]
    },
    {
     "name": "stderr",
     "output_type": "stream",
     "text": [
      "\r",
      " 50%|█████     | 5/10 [00:01<00:01,  3.64it/s]"
     ]
    },
    {
     "name": "stdout",
     "output_type": "stream",
     "text": [
      "Anyone called you about a credit default swap today? Seems quiet {'entities': [(26, 45, 'FINANCIAL_PRODUCT')]}\n"
     ]
    },
    {
     "name": "stderr",
     "output_type": "stream",
     "text": [
      "\r",
      " 60%|██████    | 6/10 [00:01<00:01,  2.77it/s]"
     ]
    },
    {
     "name": "stdout",
     "output_type": "stream",
     "text": [
      "Beyond the liquid futures market, most use IRS to position themselves for increasing yields {'entities': [(43, 46, 'FINANCIAL_PRODUCT')]}\n"
     ]
    },
    {
     "name": "stderr",
     "output_type": "stream",
     "text": [
      "\r",
      " 70%|███████   | 7/10 [00:02<00:01,  2.61it/s]"
     ]
    },
    {
     "name": "stdout",
     "output_type": "stream",
     "text": [
      "Anyone called you about a interest rate swap today? Seems quiet {'entities': [(26, 44, 'FINANCIAL_PRODUCT')]}\n"
     ]
    },
    {
     "name": "stderr",
     "output_type": "stream",
     "text": [
      "\r",
      " 80%|████████  | 8/10 [00:02<00:00,  2.90it/s]"
     ]
    },
    {
     "name": "stdout",
     "output_type": "stream",
     "text": [
      "Some guy from JPM called about an interest rate swap or something?? {'entities': [(34, 52, 'FINANCIAL_PRODUCT')]}\n"
     ]
    },
    {
     "name": "stderr",
     "output_type": "stream",
     "text": [
      "\r",
      " 90%|█████████ | 9/10 [00:02<00:00,  3.02it/s]"
     ]
    },
    {
     "name": "stdout",
     "output_type": "stream",
     "text": [
      "Roses are red, violets are blue, IRS is for rates, CDS is for credit too {'entities': [(33, 36, 'FINANCIAL_PRODUCT'), (51, 54, 'FINANCIAL_PRODUCT')]}\n"
     ]
    },
    {
     "name": "stderr",
     "output_type": "stream",
     "text": [
      "100%|██████████| 10/10 [00:03<00:00,  2.78it/s]\n",
      "  0%|          | 0/10 [00:00<?, ?it/s]"
     ]
    },
    {
     "name": "stdout",
     "output_type": "stream",
     "text": [
      "Who is David Doherty? Know if he trades interest rate swaps?? {'entities': [(40, 59, 'FINANCIAL_PRODUCT')]}\n"
     ]
    },
    {
     "name": "stderr",
     "output_type": "stream",
     "text": [
      "\r",
      " 10%|█         | 1/10 [00:00<00:04,  2.12it/s]"
     ]
    },
    {
     "name": "stdout",
     "output_type": "stream",
     "text": [
      "Some guy from JPM called about an interest rate swap or something?? {'entities': [(34, 52, 'FINANCIAL_PRODUCT')]}\n"
     ]
    },
    {
     "name": "stderr",
     "output_type": "stream",
     "text": [
      " 30%|███       | 3/10 [00:00<00:02,  2.96it/s]"
     ]
    },
    {
     "name": "stdout",
     "output_type": "stream",
     "text": [
      "Anyone called you about a credit default swap today? Seems quiet {'entities': [(26, 45, 'FINANCIAL_PRODUCT')]}\n",
      "Though the swap curve uses many IRS instruments, they are normally spread against liquid bond markets {'entities': [(32, 35, 'FINANCIAL_PRODUCT')]}\n"
     ]
    },
    {
     "name": "stderr",
     "output_type": "stream",
     "text": [
      "\r",
      " 40%|████      | 4/10 [00:01<00:02,  2.52it/s]"
     ]
    },
    {
     "name": "stdout",
     "output_type": "stream",
     "text": [
      "Beyond the liquid futures market, most use IRS to position themselves for increasing yields {'entities': [(43, 46, 'FINANCIAL_PRODUCT')]}\n"
     ]
    },
    {
     "name": "stderr",
     "output_type": "stream",
     "text": [
      "\r",
      " 50%|█████     | 5/10 [00:01<00:01,  2.67it/s]"
     ]
    },
    {
     "name": "stdout",
     "output_type": "stream",
     "text": [
      "Roses are red, violets are blue, IRS is for rates, CDS is for credit too {'entities': [(33, 36, 'FINANCIAL_PRODUCT'), (51, 54, 'FINANCIAL_PRODUCT')]}\n"
     ]
    },
    {
     "name": "stderr",
     "output_type": "stream",
     "text": [
      "\r",
      " 60%|██████    | 6/10 [00:02<00:01,  2.34it/s]"
     ]
    },
    {
     "name": "stdout",
     "output_type": "stream",
     "text": [
      "Derivatives market are made up of many products like IRS, CDS, CDO, etc {'entities': [(53, 56, 'FINANCIAL_PRODUCT'), (58, 61, 'FINANCIAL_PRODUCT'), (63, 66, 'FINANCIAL_PRODUCT')]}\n"
     ]
    },
    {
     "name": "stderr",
     "output_type": "stream",
     "text": [
      "\r",
      " 70%|███████   | 7/10 [00:03<00:01,  1.89it/s]"
     ]
    },
    {
     "name": "stdout",
     "output_type": "stream",
     "text": [
      "A butterfly trade is simply 3 IRS at different maturities {'entities': [(30, 33, 'FINANCIAL_PRODUCT')]}\n"
     ]
    },
    {
     "name": "stderr",
     "output_type": "stream",
     "text": [
      "\r",
      " 80%|████████  | 8/10 [00:03<00:01,  1.84it/s]"
     ]
    },
    {
     "name": "stdout",
     "output_type": "stream",
     "text": [
      "Anyone called you about a interest rate swap today? Seems quiet {'entities': [(26, 44, 'FINANCIAL_PRODUCT')]}\n"
     ]
    },
    {
     "name": "stderr",
     "output_type": "stream",
     "text": [
      "100%|██████████| 10/10 [00:04<00:00,  2.63it/s]\n",
      "  0%|          | 0/10 [00:00<?, ?it/s]"
     ]
    },
    {
     "name": "stdout",
     "output_type": "stream",
     "text": [
      "To hedge rates positions you can use IRS which trade with lots of liquidity {'entities': [(37, 40, 'FINANCIAL_PRODUCT')]}\n",
      "Some guy from JPM called about an interest rate swap or something?? {'entities': [(34, 52, 'FINANCIAL_PRODUCT')]}\n"
     ]
    },
    {
     "name": "stderr",
     "output_type": "stream",
     "text": [
      "\r",
      " 10%|█         | 1/10 [00:00<00:03,  2.98it/s]"
     ]
    },
    {
     "name": "stdout",
     "output_type": "stream",
     "text": [
      "Though the swap curve uses many IRS instruments, they are normally spread against liquid bond markets {'entities': [(32, 35, 'FINANCIAL_PRODUCT')]}\n"
     ]
    },
    {
     "name": "stderr",
     "output_type": "stream",
     "text": [
      "\r",
      " 20%|██        | 2/10 [00:01<00:03,  2.06it/s]"
     ]
    },
    {
     "name": "stdout",
     "output_type": "stream",
     "text": [
      "Beyond the liquid futures market, most use IRS to position themselves for increasing yields {'entities': [(43, 46, 'FINANCIAL_PRODUCT')]}\n"
     ]
    },
    {
     "name": "stderr",
     "output_type": "stream",
     "text": [
      "\r",
      " 30%|███       | 3/10 [00:01<00:03,  2.18it/s]"
     ]
    },
    {
     "name": "stdout",
     "output_type": "stream",
     "text": [
      "Roses are red, violets are blue, IRS is for rates, CDS is for credit too {'entities': [(33, 36, 'FINANCIAL_PRODUCT'), (51, 54, 'FINANCIAL_PRODUCT')]}\n"
     ]
    },
    {
     "name": "stderr",
     "output_type": "stream",
     "text": [
      "\r",
      " 40%|████      | 4/10 [00:02<00:04,  1.49it/s]"
     ]
    },
    {
     "name": "stdout",
     "output_type": "stream",
     "text": [
      "To hedge rates positions you can use IRS which trade with lots of liquidity {'entities': [(37, 40, 'FINANCIAL_PRODUCT')]}\n"
     ]
    },
    {
     "name": "stderr",
     "output_type": "stream",
     "text": [
      "\r",
      " 50%|█████     | 5/10 [00:03<00:03,  1.50it/s]"
     ]
    },
    {
     "name": "stdout",
     "output_type": "stream",
     "text": [
      "Anyone called you about a interest rate swap today? Seems quiet {'entities': [(26, 44, 'FINANCIAL_PRODUCT')]}\n"
     ]
    },
    {
     "name": "stderr",
     "output_type": "stream",
     "text": [
      "\r",
      " 60%|██████    | 6/10 [00:04<00:02,  1.43it/s]"
     ]
    },
    {
     "name": "stdout",
     "output_type": "stream",
     "text": [
      "Derivatives market are made up of many products like IRS, CDS, CDO, etc {'entities': [(53, 56, 'FINANCIAL_PRODUCT'), (58, 61, 'FINANCIAL_PRODUCT'), (63, 66, 'FINANCIAL_PRODUCT')]}\n"
     ]
    },
    {
     "name": "stderr",
     "output_type": "stream",
     "text": [
      "\r",
      " 70%|███████   | 7/10 [00:05<00:02,  1.34it/s]"
     ]
    },
    {
     "name": "stdout",
     "output_type": "stream",
     "text": [
      "Who is David Doherty? Know if he trades interest rate swaps?? {'entities': [(40, 59, 'FINANCIAL_PRODUCT')]}\n"
     ]
    },
    {
     "name": "stderr",
     "output_type": "stream",
     "text": [
      "\r",
      " 80%|████████  | 8/10 [00:05<00:01,  1.31it/s]"
     ]
    },
    {
     "name": "stdout",
     "output_type": "stream",
     "text": [
      "A butterfly trade is simply 3 IRS at different maturities {'entities': [(30, 33, 'FINANCIAL_PRODUCT')]}\n"
     ]
    },
    {
     "name": "stderr",
     "output_type": "stream",
     "text": [
      "\r",
      " 90%|█████████ | 9/10 [00:06<00:00,  1.61it/s]"
     ]
    },
    {
     "name": "stdout",
     "output_type": "stream",
     "text": [
      "Anyone called you about a credit default swap today? Seems quiet {'entities': [(26, 45, 'FINANCIAL_PRODUCT')]}\n"
     ]
    },
    {
     "name": "stderr",
     "output_type": "stream",
     "text": [
      "100%|██████████| 10/10 [00:06<00:00,  1.70it/s]\n",
      "  0%|          | 0/10 [00:00<?, ?it/s]"
     ]
    },
    {
     "name": "stdout",
     "output_type": "stream",
     "text": [
      "A butterfly trade is simply 3 IRS at different maturities {'entities': [(30, 33, 'FINANCIAL_PRODUCT')]}\n"
     ]
    },
    {
     "name": "stderr",
     "output_type": "stream",
     "text": [
      "\r",
      " 10%|█         | 1/10 [00:00<00:05,  1.57it/s]"
     ]
    },
    {
     "name": "stdout",
     "output_type": "stream",
     "text": [
      "Who is David Doherty? Know if he trades interest rate swaps?? {'entities': [(40, 59, 'FINANCIAL_PRODUCT')]}\n"
     ]
    },
    {
     "name": "stderr",
     "output_type": "stream",
     "text": [
      "\r",
      " 20%|██        | 2/10 [00:01<00:04,  1.63it/s]"
     ]
    },
    {
     "name": "stdout",
     "output_type": "stream",
     "text": [
      "Anyone called you about a credit default swap today? Seems quiet {'entities': [(26, 45, 'FINANCIAL_PRODUCT')]}\n"
     ]
    },
    {
     "name": "stderr",
     "output_type": "stream",
     "text": [
      "\r",
      " 30%|███       | 3/10 [00:01<00:04,  1.74it/s]"
     ]
    },
    {
     "name": "stdout",
     "output_type": "stream",
     "text": [
      "Beyond the liquid futures market, most use IRS to position themselves for increasing yields {'entities': [(43, 46, 'FINANCIAL_PRODUCT')]}\n"
     ]
    },
    {
     "name": "stderr",
     "output_type": "stream",
     "text": [
      "\r",
      " 40%|████      | 4/10 [00:02<00:03,  1.77it/s]"
     ]
    },
    {
     "name": "stdout",
     "output_type": "stream",
     "text": [
      "Derivatives market are made up of many products like IRS, CDS, CDO, etc {'entities': [(53, 56, 'FINANCIAL_PRODUCT'), (58, 61, 'FINANCIAL_PRODUCT'), (63, 66, 'FINANCIAL_PRODUCT')]}\n"
     ]
    },
    {
     "name": "stderr",
     "output_type": "stream",
     "text": [
      "\r",
      " 50%|█████     | 5/10 [00:02<00:02,  1.68it/s]"
     ]
    },
    {
     "name": "stdout",
     "output_type": "stream",
     "text": [
      "Roses are red, violets are blue, IRS is for rates, CDS is for credit too {'entities': [(33, 36, 'FINANCIAL_PRODUCT'), (51, 54, 'FINANCIAL_PRODUCT')]}\n"
     ]
    },
    {
     "name": "stderr",
     "output_type": "stream",
     "text": [
      "\r",
      " 60%|██████    | 6/10 [00:03<00:02,  1.68it/s]"
     ]
    },
    {
     "name": "stdout",
     "output_type": "stream",
     "text": [
      "Though the swap curve uses many IRS instruments, they are normally spread against liquid bond markets {'entities': [(32, 35, 'FINANCIAL_PRODUCT')]}\n"
     ]
    },
    {
     "name": "stderr",
     "output_type": "stream",
     "text": [
      "\r",
      " 70%|███████   | 7/10 [00:04<00:01,  1.72it/s]"
     ]
    },
    {
     "name": "stdout",
     "output_type": "stream",
     "text": [
      "To hedge rates positions you can use IRS which trade with lots of liquidity {'entities': [(37, 40, 'FINANCIAL_PRODUCT')]}\n"
     ]
    },
    {
     "name": "stderr",
     "output_type": "stream",
     "text": [
      "\r",
      " 80%|████████  | 8/10 [00:04<00:01,  1.94it/s]"
     ]
    },
    {
     "name": "stdout",
     "output_type": "stream",
     "text": [
      "Anyone called you about a interest rate swap today? Seems quiet {'entities': [(26, 44, 'FINANCIAL_PRODUCT')]}\n"
     ]
    },
    {
     "name": "stderr",
     "output_type": "stream",
     "text": [
      "\r",
      " 90%|█████████ | 9/10 [00:04<00:00,  1.88it/s]"
     ]
    },
    {
     "name": "stdout",
     "output_type": "stream",
     "text": [
      "Some guy from JPM called about an interest rate swap or something?? {'entities': [(34, 52, 'FINANCIAL_PRODUCT')]}\n"
     ]
    },
    {
     "name": "stderr",
     "output_type": "stream",
     "text": [
      "100%|██████████| 10/10 [00:05<00:00,  2.19it/s]\n",
      "  0%|          | 0/10 [00:00<?, ?it/s]"
     ]
    },
    {
     "name": "stdout",
     "output_type": "stream",
     "text": [
      "Anyone called you about a credit default swap today? Seems quiet {'entities': [(26, 45, 'FINANCIAL_PRODUCT')]}\n"
     ]
    },
    {
     "name": "stderr",
     "output_type": "stream",
     "text": [
      "\r",
      " 10%|█         | 1/10 [00:00<00:02,  3.09it/s]"
     ]
    },
    {
     "name": "stdout",
     "output_type": "stream",
     "text": [
      "Who is David Doherty? Know if he trades interest rate swaps?? {'entities': [(40, 59, 'FINANCIAL_PRODUCT')]}\n"
     ]
    },
    {
     "name": "stderr",
     "output_type": "stream",
     "text": [
      "\r",
      " 20%|██        | 2/10 [00:00<00:02,  2.91it/s]"
     ]
    },
    {
     "name": "stdout",
     "output_type": "stream",
     "text": [
      "A butterfly trade is simply 3 IRS at different maturities {'entities': [(30, 33, 'FINANCIAL_PRODUCT')]}\n"
     ]
    },
    {
     "name": "stderr",
     "output_type": "stream",
     "text": [
      "\r",
      " 30%|███       | 3/10 [00:00<00:02,  3.13it/s]"
     ]
    },
    {
     "name": "stdout",
     "output_type": "stream",
     "text": [
      "Derivatives market are made up of many products like IRS, CDS, CDO, etc {'entities': [(53, 56, 'FINANCIAL_PRODUCT'), (58, 61, 'FINANCIAL_PRODUCT'), (63, 66, 'FINANCIAL_PRODUCT')]}\n"
     ]
    },
    {
     "name": "stderr",
     "output_type": "stream",
     "text": [
      "\r",
      " 40%|████      | 4/10 [00:01<00:01,  3.15it/s]"
     ]
    },
    {
     "name": "stdout",
     "output_type": "stream",
     "text": [
      "Though the swap curve uses many IRS instruments, they are normally spread against liquid bond markets {'entities': [(32, 35, 'FINANCIAL_PRODUCT')]}\n"
     ]
    },
    {
     "name": "stderr",
     "output_type": "stream",
     "text": [
      "\r",
      " 50%|█████     | 5/10 [00:01<00:01,  3.19it/s]"
     ]
    },
    {
     "name": "stdout",
     "output_type": "stream",
     "text": [
      "Roses are red, violets are blue, IRS is for rates, CDS is for credit too {'entities': [(33, 36, 'FINANCIAL_PRODUCT'), (51, 54, 'FINANCIAL_PRODUCT')]}\n"
     ]
    },
    {
     "name": "stderr",
     "output_type": "stream",
     "text": [
      "\r",
      " 60%|██████    | 6/10 [00:02<00:01,  2.73it/s]"
     ]
    },
    {
     "name": "stdout",
     "output_type": "stream",
     "text": [
      "Beyond the liquid futures market, most use IRS to position themselves for increasing yields {'entities': [(43, 46, 'FINANCIAL_PRODUCT')]}\n"
     ]
    },
    {
     "name": "stderr",
     "output_type": "stream",
     "text": [
      "\r",
      " 70%|███████   | 7/10 [00:02<00:01,  2.61it/s]"
     ]
    },
    {
     "name": "stdout",
     "output_type": "stream",
     "text": [
      "Anyone called you about a interest rate swap today? Seems quiet {'entities': [(26, 44, 'FINANCIAL_PRODUCT')]}\n"
     ]
    },
    {
     "name": "stderr",
     "output_type": "stream",
     "text": [
      "\r",
      " 80%|████████  | 8/10 [00:02<00:00,  2.61it/s]"
     ]
    },
    {
     "name": "stdout",
     "output_type": "stream",
     "text": [
      "Some guy from JPM called about an interest rate swap or something?? {'entities': [(34, 52, 'FINANCIAL_PRODUCT')]}\n"
     ]
    },
    {
     "name": "stderr",
     "output_type": "stream",
     "text": [
      "\r",
      " 90%|█████████ | 9/10 [00:03<00:00,  1.86it/s]"
     ]
    },
    {
     "name": "stdout",
     "output_type": "stream",
     "text": [
      "To hedge rates positions you can use IRS which trade with lots of liquidity {'entities': [(37, 40, 'FINANCIAL_PRODUCT')]}\n"
     ]
    },
    {
     "name": "stderr",
     "output_type": "stream",
     "text": [
      "100%|██████████| 10/10 [00:04<00:00,  1.99it/s]\n",
      "  0%|          | 0/10 [00:00<?, ?it/s]"
     ]
    },
    {
     "name": "stdout",
     "output_type": "stream",
     "text": [
      "Anyone called you about a interest rate swap today? Seems quiet {'entities': [(26, 44, 'FINANCIAL_PRODUCT')]}\n"
     ]
    },
    {
     "name": "stderr",
     "output_type": "stream",
     "text": [
      "\r",
      " 10%|█         | 1/10 [00:00<00:05,  1.79it/s]"
     ]
    },
    {
     "name": "stdout",
     "output_type": "stream",
     "text": [
      "To hedge rates positions you can use IRS which trade with lots of liquidity {'entities': [(37, 40, 'FINANCIAL_PRODUCT')]}\n"
     ]
    },
    {
     "name": "stderr",
     "output_type": "stream",
     "text": [
      "\r",
      " 20%|██        | 2/10 [00:00<00:03,  2.06it/s]"
     ]
    },
    {
     "name": "stdout",
     "output_type": "stream",
     "text": [
      "Anyone called you about a credit default swap today? Seems quiet {'entities': [(26, 45, 'FINANCIAL_PRODUCT')]}\n"
     ]
    },
    {
     "name": "stderr",
     "output_type": "stream",
     "text": [
      "\r",
      " 30%|███       | 3/10 [00:01<00:03,  2.25it/s]"
     ]
    },
    {
     "name": "stdout",
     "output_type": "stream",
     "text": [
      "Roses are red, violets are blue, IRS is for rates, CDS is for credit too {'entities': [(33, 36, 'FINANCIAL_PRODUCT'), (51, 54, 'FINANCIAL_PRODUCT')]}\n"
     ]
    },
    {
     "name": "stderr",
     "output_type": "stream",
     "text": [
      "\r",
      " 40%|████      | 4/10 [00:01<00:02,  2.24it/s]"
     ]
    },
    {
     "name": "stdout",
     "output_type": "stream",
     "text": [
      "Derivatives market are made up of many products like IRS, CDS, CDO, etc {'entities': [(53, 56, 'FINANCIAL_PRODUCT'), (58, 61, 'FINANCIAL_PRODUCT'), (63, 66, 'FINANCIAL_PRODUCT')]}\n"
     ]
    },
    {
     "name": "stderr",
     "output_type": "stream",
     "text": [
      "\r",
      " 50%|█████     | 5/10 [00:02<00:02,  2.20it/s]"
     ]
    },
    {
     "name": "stdout",
     "output_type": "stream",
     "text": [
      "A butterfly trade is simply 3 IRS at different maturities {'entities': [(30, 33, 'FINANCIAL_PRODUCT')]}\n"
     ]
    },
    {
     "name": "stderr",
     "output_type": "stream",
     "text": [
      "\r",
      " 60%|██████    | 6/10 [00:02<00:01,  2.46it/s]"
     ]
    },
    {
     "name": "stdout",
     "output_type": "stream",
     "text": [
      "Beyond the liquid futures market, most use IRS to position themselves for increasing yields {'entities': [(43, 46, 'FINANCIAL_PRODUCT')]}\n"
     ]
    },
    {
     "name": "stderr",
     "output_type": "stream",
     "text": [
      "\r",
      " 70%|███████   | 7/10 [00:03<00:01,  2.14it/s]"
     ]
    },
    {
     "name": "stdout",
     "output_type": "stream",
     "text": [
      "Though the swap curve uses many IRS instruments, they are normally spread against liquid bond markets {'entities': [(32, 35, 'FINANCIAL_PRODUCT')]}\n"
     ]
    },
    {
     "name": "stderr",
     "output_type": "stream",
     "text": [
      "\r",
      " 80%|████████  | 8/10 [00:03<00:00,  2.07it/s]"
     ]
    },
    {
     "name": "stdout",
     "output_type": "stream",
     "text": [
      "Some guy from JPM called about an interest rate swap or something?? {'entities': [(34, 52, 'FINANCIAL_PRODUCT')]}\n"
     ]
    },
    {
     "name": "stderr",
     "output_type": "stream",
     "text": [
      "\r",
      " 90%|█████████ | 9/10 [00:04<00:00,  1.95it/s]"
     ]
    },
    {
     "name": "stdout",
     "output_type": "stream",
     "text": [
      "Who is David Doherty? Know if he trades interest rate swaps?? {'entities': [(40, 59, 'FINANCIAL_PRODUCT')]}\n"
     ]
    },
    {
     "name": "stderr",
     "output_type": "stream",
     "text": [
      "100%|██████████| 10/10 [00:04<00:00,  2.15it/s]\n",
      "  0%|          | 0/10 [00:00<?, ?it/s]"
     ]
    },
    {
     "name": "stdout",
     "output_type": "stream",
     "text": [
      "Derivatives market are made up of many products like IRS, CDS, CDO, etc {'entities': [(53, 56, 'FINANCIAL_PRODUCT'), (58, 61, 'FINANCIAL_PRODUCT'), (63, 66, 'FINANCIAL_PRODUCT')]}\n"
     ]
    },
    {
     "name": "stderr",
     "output_type": "stream",
     "text": [
      " 20%|██        | 2/10 [00:00<00:03,  2.62it/s]"
     ]
    },
    {
     "name": "stdout",
     "output_type": "stream",
     "text": [
      "Who is David Doherty? Know if he trades interest rate swaps?? {'entities': [(40, 59, 'FINANCIAL_PRODUCT')]}\n",
      "Beyond the liquid futures market, most use IRS to position themselves for increasing yields {'entities': [(43, 46, 'FINANCIAL_PRODUCT')]}\n"
     ]
    },
    {
     "name": "stderr",
     "output_type": "stream",
     "text": [
      "\r",
      " 30%|███       | 3/10 [00:01<00:03,  2.24it/s]"
     ]
    },
    {
     "name": "stdout",
     "output_type": "stream",
     "text": [
      "Anyone called you about a interest rate swap today? Seems quiet {'entities': [(26, 44, 'FINANCIAL_PRODUCT')]}\n"
     ]
    },
    {
     "name": "stderr",
     "output_type": "stream",
     "text": [
      " 50%|█████     | 5/10 [00:01<00:01,  2.54it/s]"
     ]
    },
    {
     "name": "stdout",
     "output_type": "stream",
     "text": [
      "To hedge rates positions you can use IRS which trade with lots of liquidity {'entities': [(37, 40, 'FINANCIAL_PRODUCT')]}\n",
      "Some guy from JPM called about an interest rate swap or something?? {'entities': [(34, 52, 'FINANCIAL_PRODUCT')]}\n"
     ]
    },
    {
     "name": "stderr",
     "output_type": "stream",
     "text": [
      "\r",
      " 60%|██████    | 6/10 [00:02<00:01,  2.63it/s]"
     ]
    },
    {
     "name": "stdout",
     "output_type": "stream",
     "text": [
      "A butterfly trade is simply 3 IRS at different maturities {'entities': [(30, 33, 'FINANCIAL_PRODUCT')]}\n"
     ]
    },
    {
     "name": "stderr",
     "output_type": "stream",
     "text": [
      "\r",
      " 70%|███████   | 7/10 [00:02<00:01,  2.63it/s]"
     ]
    },
    {
     "name": "stdout",
     "output_type": "stream",
     "text": [
      "Roses are red, violets are blue, IRS is for rates, CDS is for credit too {'entities': [(33, 36, 'FINANCIAL_PRODUCT'), (51, 54, 'FINANCIAL_PRODUCT')]}\n"
     ]
    },
    {
     "name": "stderr",
     "output_type": "stream",
     "text": [
      "\r",
      " 80%|████████  | 8/10 [00:03<00:00,  2.38it/s]"
     ]
    },
    {
     "name": "stdout",
     "output_type": "stream",
     "text": [
      "Anyone called you about a credit default swap today? Seems quiet {'entities': [(26, 45, 'FINANCIAL_PRODUCT')]}\n"
     ]
    },
    {
     "name": "stderr",
     "output_type": "stream",
     "text": [
      "\r",
      " 90%|█████████ | 9/10 [00:03<00:00,  2.47it/s]"
     ]
    },
    {
     "name": "stdout",
     "output_type": "stream",
     "text": [
      "Though the swap curve uses many IRS instruments, they are normally spread against liquid bond markets {'entities': [(32, 35, 'FINANCIAL_PRODUCT')]}\n"
     ]
    },
    {
     "name": "stderr",
     "output_type": "stream",
     "text": [
      "100%|██████████| 10/10 [00:03<00:00,  2.67it/s]\n",
      "  0%|          | 0/10 [00:00<?, ?it/s]"
     ]
    },
    {
     "name": "stdout",
     "output_type": "stream",
     "text": [
      "Roses are red, violets are blue, IRS is for rates, CDS is for credit too {'entities': [(33, 36, 'FINANCIAL_PRODUCT'), (51, 54, 'FINANCIAL_PRODUCT')]}\n"
     ]
    },
    {
     "name": "stderr",
     "output_type": "stream",
     "text": [
      "\r",
      " 10%|█         | 1/10 [00:00<00:02,  4.42it/s]"
     ]
    },
    {
     "name": "stdout",
     "output_type": "stream",
     "text": [
      "Beyond the liquid futures market, most use IRS to position themselves for increasing yields {'entities': [(43, 46, 'FINANCIAL_PRODUCT')]}\n"
     ]
    },
    {
     "name": "stderr",
     "output_type": "stream",
     "text": [
      "\r",
      " 20%|██        | 2/10 [00:00<00:01,  4.25it/s]"
     ]
    },
    {
     "name": "stdout",
     "output_type": "stream",
     "text": [
      "Who is David Doherty? Know if he trades interest rate swaps?? {'entities': [(40, 59, 'FINANCIAL_PRODUCT')]}\n"
     ]
    },
    {
     "name": "stderr",
     "output_type": "stream",
     "text": [
      "\r",
      " 30%|███       | 3/10 [00:00<00:01,  4.32it/s]"
     ]
    },
    {
     "name": "stdout",
     "output_type": "stream",
     "text": [
      "Anyone called you about a interest rate swap today? Seems quiet {'entities': [(26, 44, 'FINANCIAL_PRODUCT')]}\n"
     ]
    },
    {
     "name": "stderr",
     "output_type": "stream",
     "text": [
      "\r",
      " 40%|████      | 4/10 [00:00<00:01,  4.14it/s]"
     ]
    },
    {
     "name": "stdout",
     "output_type": "stream",
     "text": [
      "Anyone called you about a credit default swap today? Seems quiet {'entities': [(26, 45, 'FINANCIAL_PRODUCT')]}\n"
     ]
    },
    {
     "name": "stderr",
     "output_type": "stream",
     "text": [
      "\r",
      " 50%|█████     | 5/10 [00:01<00:01,  3.98it/s]"
     ]
    },
    {
     "name": "stdout",
     "output_type": "stream",
     "text": [
      "To hedge rates positions you can use IRS which trade with lots of liquidity {'entities': [(37, 40, 'FINANCIAL_PRODUCT')]}\n"
     ]
    },
    {
     "name": "stderr",
     "output_type": "stream",
     "text": [
      "\r",
      " 60%|██████    | 6/10 [00:01<00:01,  3.77it/s]"
     ]
    },
    {
     "name": "stdout",
     "output_type": "stream",
     "text": [
      "A butterfly trade is simply 3 IRS at different maturities {'entities': [(30, 33, 'FINANCIAL_PRODUCT')]}\n"
     ]
    },
    {
     "name": "stderr",
     "output_type": "stream",
     "text": [
      "\r",
      " 70%|███████   | 7/10 [00:01<00:00,  3.72it/s]"
     ]
    },
    {
     "name": "stdout",
     "output_type": "stream",
     "text": [
      "Though the swap curve uses many IRS instruments, they are normally spread against liquid bond markets {'entities': [(32, 35, 'FINANCIAL_PRODUCT')]}\n"
     ]
    },
    {
     "name": "stderr",
     "output_type": "stream",
     "text": [
      " 90%|█████████ | 9/10 [00:02<00:00,  4.05it/s]"
     ]
    },
    {
     "name": "stdout",
     "output_type": "stream",
     "text": [
      "Some guy from JPM called about an interest rate swap or something?? {'entities': [(34, 52, 'FINANCIAL_PRODUCT')]}\n",
      "Derivatives market are made up of many products like IRS, CDS, CDO, etc {'entities': [(53, 56, 'FINANCIAL_PRODUCT'), (58, 61, 'FINANCIAL_PRODUCT'), (63, 66, 'FINANCIAL_PRODUCT')]}\n"
     ]
    },
    {
     "name": "stderr",
     "output_type": "stream",
     "text": [
      "100%|██████████| 10/10 [00:02<00:00,  4.01it/s]\n",
      " 10%|█         | 1/10 [00:00<00:01,  5.27it/s]"
     ]
    },
    {
     "name": "stdout",
     "output_type": "stream",
     "text": [
      "To hedge rates positions you can use IRS which trade with lots of liquidity {'entities': [(37, 40, 'FINANCIAL_PRODUCT')]}\n",
      "Who is David Doherty? Know if he trades interest rate swaps?? {'entities': [(40, 59, 'FINANCIAL_PRODUCT')]}\n"
     ]
    },
    {
     "name": "stderr",
     "output_type": "stream",
     "text": [
      " 30%|███       | 3/10 [00:00<00:01,  5.80it/s]"
     ]
    },
    {
     "name": "stdout",
     "output_type": "stream",
     "text": [
      "Though the swap curve uses many IRS instruments, they are normally spread against liquid bond markets {'entities': [(32, 35, 'FINANCIAL_PRODUCT')]}\n",
      "A butterfly trade is simply 3 IRS at different maturities {'entities': [(30, 33, 'FINANCIAL_PRODUCT')]}\n"
     ]
    },
    {
     "name": "stderr",
     "output_type": "stream",
     "text": [
      "\r",
      " 40%|████      | 4/10 [00:00<00:01,  5.06it/s]"
     ]
    },
    {
     "name": "stdout",
     "output_type": "stream",
     "text": [
      "Anyone called you about a credit default swap today? Seems quiet {'entities': [(26, 45, 'FINANCIAL_PRODUCT')]}\n"
     ]
    },
    {
     "name": "stderr",
     "output_type": "stream",
     "text": [
      "\r",
      " 50%|█████     | 5/10 [00:01<00:01,  3.21it/s]"
     ]
    },
    {
     "name": "stdout",
     "output_type": "stream",
     "text": [
      "Anyone called you about a interest rate swap today? Seems quiet {'entities': [(26, 44, 'FINANCIAL_PRODUCT')]}\n"
     ]
    },
    {
     "name": "stderr",
     "output_type": "stream",
     "text": [
      "\r",
      " 60%|██████    | 6/10 [00:01<00:01,  2.69it/s]"
     ]
    },
    {
     "name": "stdout",
     "output_type": "stream",
     "text": [
      "Roses are red, violets are blue, IRS is for rates, CDS is for credit too {'entities': [(33, 36, 'FINANCIAL_PRODUCT'), (51, 54, 'FINANCIAL_PRODUCT')]}\n"
     ]
    },
    {
     "name": "stderr",
     "output_type": "stream",
     "text": [
      "\r",
      " 70%|███████   | 7/10 [00:02<00:01,  2.42it/s]"
     ]
    },
    {
     "name": "stdout",
     "output_type": "stream",
     "text": [
      "Some guy from JPM called about an interest rate swap or something?? {'entities': [(34, 52, 'FINANCIAL_PRODUCT')]}\n"
     ]
    },
    {
     "name": "stderr",
     "output_type": "stream",
     "text": [
      "\r",
      " 80%|████████  | 8/10 [00:02<00:00,  2.75it/s]"
     ]
    },
    {
     "name": "stdout",
     "output_type": "stream",
     "text": [
      "Derivatives market are made up of many products like IRS, CDS, CDO, etc {'entities': [(53, 56, 'FINANCIAL_PRODUCT'), (58, 61, 'FINANCIAL_PRODUCT'), (63, 66, 'FINANCIAL_PRODUCT')]}\n"
     ]
    },
    {
     "name": "stderr",
     "output_type": "stream",
     "text": [
      "\r",
      " 90%|█████████ | 9/10 [00:02<00:00,  3.13it/s]"
     ]
    },
    {
     "name": "stdout",
     "output_type": "stream",
     "text": [
      "Beyond the liquid futures market, most use IRS to position themselves for increasing yields {'entities': [(43, 46, 'FINANCIAL_PRODUCT')]}\n"
     ]
    },
    {
     "name": "stderr",
     "output_type": "stream",
     "text": [
      "100%|██████████| 10/10 [00:03<00:00,  3.25it/s]\n"
     ]
    }
   ],
   "source": [
    "n_iter = 20\n",
    "other_pipes = [pipe for pipe in nlp.pipe_names if pipe != 'ner']\n",
    "with nlp.disable_pipes(*other_pipes):  # only train NER\n",
    "    optimizer = nlp.begin_training()\n",
    "    for itn in range(n_iter):\n",
    "        random.shuffle(TRAIN_DATA)\n",
    "        losses = {}\n",
    "        for text, annotations in tqdm(TRAIN_DATA):\n",
    "            print(text, annotations)\n",
    "            nlp.update(\n",
    "                [text],  # batch of texts\n",
    "                [annotations],  # batch of annotations\n",
    "                drop=0.5,  # dropout - make it harder to memorise data\n",
    "                sgd=optimizer,  # callable to update weights\n",
    "                losses=losses)\n",
    "#         print(losses)"
   ]
  },
  {
   "cell_type": "markdown",
   "metadata": {},
   "source": [
    "Now let's check the results"
   ]
  },
  {
   "cell_type": "code",
   "execution_count": 203,
   "metadata": {},
   "outputs": [
    {
     "data": {
      "text/html": [
       "<div class=\"entities\" style=\"line-height: 2.5\">What on earth is an \n",
       "<mark class=\"entity\" style=\"background: #ddd; padding: 0.45em 0.6em; margin: 0 0.25em; line-height: 1; border-radius: 0.35em; box-decoration-break: clone; -webkit-box-decoration-break: clone\">\n",
       "    IRS\n",
       "    <span style=\"font-size: 0.8em; font-weight: bold; line-height: 1; border-radius: 0.35em; text-transform: uppercase; vertical-align: middle; margin-left: 0.5rem\">FINANCIAL_PRODUCT</span>\n",
       "</mark>\n",
       " \n",
       "<mark class=\"entity\" style=\"background: #ddd; padding: 0.45em 0.6em; margin: 0 0.25em; line-height: 1; border-radius: 0.35em; box-decoration-break: clone; -webkit-box-decoration-break: clone\">\n",
       "    interest rate swap!\n",
       "    <span style=\"font-size: 0.8em; font-weight: bold; line-height: 1; border-radius: 0.35em; text-transform: uppercase; vertical-align: middle; margin-left: 0.5rem\">FINANCIAL_PRODUCT</span>\n",
       "</mark>\n",
       "</div>"
      ],
      "text/plain": [
       "<IPython.core.display.HTML object>"
      ]
     },
     "metadata": {},
     "output_type": "display_data"
    }
   ],
   "source": [
    "doc = nlp(\"What on earth is an IRS interest rate swap!\")\n",
    "\n",
    "displacy.render(doc, style='ent', jupyter=True)"
   ]
  },
  {
   "cell_type": "code",
   "execution_count": 197,
   "metadata": {},
   "outputs": [
    {
     "data": {
      "text/html": [
       "<div class=\"entities\" style=\"line-height: 2.5\">Do you trade credit default swaps more than \n",
       "<mark class=\"entity\" style=\"background: #ddd; padding: 0.45em 0.6em; margin: 0 0.25em; line-height: 1; border-radius: 0.35em; box-decoration-break: clone; -webkit-box-decoration-break: clone\">\n",
       "    IRS\n",
       "    <span style=\"font-size: 0.8em; font-weight: bold; line-height: 1; border-radius: 0.35em; text-transform: uppercase; vertical-align: middle; margin-left: 0.5rem\">FINANCIAL_PRODUCT</span>\n",
       "</mark>\n",
       "?</div>"
      ],
      "text/plain": [
       "<IPython.core.display.HTML object>"
      ]
     },
     "metadata": {},
     "output_type": "display_data"
    }
   ],
   "source": [
    "doc = nlp(\"Do you trade credit default swaps more than IRS?\")\n",
    "\n",
    "displacy.render(doc, style='ent', jupyter=True)"
   ]
  },
  {
   "cell_type": "code",
   "execution_count": null,
   "metadata": {},
   "outputs": [],
   "source": []
  }
 ],
 "metadata": {
  "kernelspec": {
   "display_name": "Python 3",
   "language": "python",
   "name": "python3"
  },
  "language_info": {
   "codemirror_mode": {
    "name": "ipython",
    "version": 3
   },
   "file_extension": ".py",
   "mimetype": "text/x-python",
   "name": "python",
   "nbconvert_exporter": "python",
   "pygments_lexer": "ipython3",
   "version": "3.6.1"
  }
 },
 "nbformat": 4,
 "nbformat_minor": 2
}
