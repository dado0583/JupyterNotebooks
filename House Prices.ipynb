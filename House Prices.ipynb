{
 "cells": [
  {
   "cell_type": "code",
   "execution_count": 5,
   "metadata": {},
   "outputs": [
    {
     "name": "stdout",
     "output_type": "stream",
     "text": [
      "Intercept value  1771.80851064\n",
      "coefficient  [ 28.77659574]\n"
     ]
    },
    {
     "name": "stderr",
     "output_type": "stream",
     "text": [
      "/usr/local/lib/python3.6/site-packages/scipy/linalg/basic.py:1226: RuntimeWarning: internal gelsd driver lwork query error, required iwork dimension not returned. This is likely the result of LAPACK bug 0038, fixed in LAPACK 3.2.2 (released July 21, 2010). Falling back to 'gelss' driver.\n",
      "  warnings.warn(mesg, RuntimeWarning)\n"
     ]
    },
    {
     "data": {
      "image/png": "[encoded data removed]",
      "text/plain": [
       "<matplotlib.figure.Figure at 0x10f476c18>"
      ]
     },
     "metadata": {},
     "output_type": "display_data"
    },
    {
     "name": "stdout",
     "output_type": "stream",
     "text": [
      "Predicted value:  [ 21915.42553191]\n"
     ]
    }
   ],
   "source": [
    "#!/usr/bin/env python\n",
    "# predict_house_price.py\n",
    "#Author : saimadhu\n",
    "#Date: 05-Dec-2014\n",
    "#About: Finding price of house using linear regression\n",
    "\n",
    "# Required Packages\n",
    "#import csv\n",
    "#import sys\n",
    "import matplotlib.pyplot as plt\n",
    "import numpy as np\n",
    "import pandas as pd\n",
    "from sklearn import datasets, linear_model\n",
    "\n",
    "\n",
    "# Function for Fitting our data to Linear model\n",
    "def linear_model_main(X_parameters,Y_parameters,predict_value):\n",
    "\n",
    "\t# Create linear regression object\n",
    "\tregr = linear_model.LinearRegression()\n",
    "\tregr.fit(X_parameters, Y_parameters)\n",
    "\tpredict_outcome = regr.predict(predict_value)\n",
    "\tpredictions = {}\n",
    "\tpredictions['intercept'] = regr.intercept_\n",
    "\tpredictions['coefficient'] = regr.coef_\n",
    "\tpredictions['predicted_value'] = predict_outcome\n",
    "\treturn predictions\n",
    "\n",
    "# Function to show the resutls of  linear fit model\n",
    "def show_linear_line(X_parameters,Y_parameters):\n",
    "\t# Create linear regression object\n",
    "\tregr = linear_model.LinearRegression()\n",
    "\tregr.fit(X_parameters, Y_parameters)\n",
    "\tplt.scatter(X_parameters,Y_parameters,color='blue')\n",
    "\tplt.plot(X_parameters,regr.predict(X_parameters),color='red',linewidth=4)\n",
    "\tplt.xticks(())\n",
    "\tplt.yticks(())\n",
    "\tplt.show()\n",
    "\n",
    "# Function to get data\n",
    "def get_data(file_name):\n",
    "\tdata = pd.read_csv(file_name)\n",
    "\tX_parameter = []\n",
    "\tY_parameter = []\n",
    "\tfor single_square_feet ,single_price_value in zip(data['square_feet'],data['price']):\n",
    "\t\tX_parameter.append([float(single_square_feet)])\n",
    "\t\tY_parameter.append(float(single_price_value))\n",
    "\treturn X_parameter,Y_parameter\n",
    "\n",
    "X,Y = get_data('AllHomes.csv')\n",
    "\n",
    "\n",
    "predictvalue = 700\n",
    "result = linear_model_main(X,Y,predictvalue)\n",
    "print(\"Intercept value \" , result['intercept'])\n",
    "print(\"coefficient \" , result['coefficient'])\n",
    "show_linear_line(X,Y)\n",
    "print(\"Predicted value: \",result['predicted_value'])"
   ]
  },
  {
   "cell_type": "code",
   "execution_count": 88,
   "metadata": {},
   "outputs": [
    {
     "data": {
      "text/html": [
       "<div>\n",
       "<style>\n",
       "    .dataframe thead tr:only-child th {\n",
       "        text-align: right;\n",
       "    }\n",
       "\n",
       "    .dataframe thead th {\n",
       "        text-align: left;\n",
       "    }\n",
       "\n",
       "    .dataframe tbody tr th {\n",
       "        vertical-align: top;\n",
       "    }\n",
       "</style>\n",
       "<table border=\"1\" class=\"dataframe\">\n",
       "  <thead>\n",
       "    <tr style=\"text-align: right;\">\n",
       "      <th></th>\n",
       "      <th>RegionID</th>\n",
       "      <th>RegionName</th>\n",
       "      <th>City</th>\n",
       "      <th>State</th>\n",
       "      <th>Metro</th>\n",
       "      <th>CountyName</th>\n",
       "      <th>SizeRank</th>\n",
       "      <th>2010-11</th>\n",
       "      <th>2010-12</th>\n",
       "      <th>2011-01</th>\n",
       "      <th>...</th>\n",
       "      <th>2017-01</th>\n",
       "      <th>2017-02</th>\n",
       "      <th>2017-03</th>\n",
       "      <th>2017-04</th>\n",
       "      <th>2017-05</th>\n",
       "      <th>2017-06</th>\n",
       "      <th>2017-07</th>\n",
       "      <th>2017-08</th>\n",
       "      <th>2017-09</th>\n",
       "      <th>2017-10</th>\n",
       "    </tr>\n",
       "  </thead>\n",
       "  <tbody>\n",
       "    <tr>\n",
       "      <th>0</th>\n",
       "      <td>61639</td>\n",
       "      <td>10025</td>\n",
       "      <td>New York</td>\n",
       "      <td>NY</td>\n",
       "      <td>New York</td>\n",
       "      <td>New York</td>\n",
       "      <td>1</td>\n",
       "      <td>NaN</td>\n",
       "      <td>NaN</td>\n",
       "      <td>NaN</td>\n",
       "      <td>...</td>\n",
       "      <td>4.394</td>\n",
       "      <td>4.380</td>\n",
       "      <td>4.364</td>\n",
       "      <td>4.366</td>\n",
       "      <td>4.360</td>\n",
       "      <td>4.352</td>\n",
       "      <td>4.346</td>\n",
       "      <td>4.362</td>\n",
       "      <td>4.376</td>\n",
       "      <td>4.396</td>\n",
       "    </tr>\n",
       "    <tr>\n",
       "      <th>1</th>\n",
       "      <td>84654</td>\n",
       "      <td>60657</td>\n",
       "      <td>Chicago</td>\n",
       "      <td>IL</td>\n",
       "      <td>Chicago</td>\n",
       "      <td>Cook</td>\n",
       "      <td>2</td>\n",
       "      <td>1.546</td>\n",
       "      <td>1.554</td>\n",
       "      <td>1.556</td>\n",
       "      <td>...</td>\n",
       "      <td>1.802</td>\n",
       "      <td>1.804</td>\n",
       "      <td>1.804</td>\n",
       "      <td>1.806</td>\n",
       "      <td>1.812</td>\n",
       "      <td>1.818</td>\n",
       "      <td>1.822</td>\n",
       "      <td>1.824</td>\n",
       "      <td>1.822</td>\n",
       "      <td>1.820</td>\n",
       "    </tr>\n",
       "  </tbody>\n",
       "</table>\n",
       "<p>2 rows × 91 columns</p>\n",
       "</div>"
      ],
      "text/plain": [
       "   RegionID  RegionName      City State     Metro CountyName  SizeRank  \\\n",
       "0     61639       10025  New York    NY  New York   New York         1   \n",
       "1     84654       60657   Chicago    IL   Chicago       Cook         2   \n",
       "\n",
       "   2010-11  2010-12  2011-01   ...     2017-01  2017-02  2017-03  2017-04  \\\n",
       "0      NaN      NaN      NaN   ...       4.394    4.380    4.364    4.366   \n",
       "1    1.546    1.554    1.556   ...       1.802    1.804    1.804    1.806   \n",
       "\n",
       "   2017-05  2017-06  2017-07  2017-08  2017-09  2017-10  \n",
       "0    4.360    4.352    4.346    4.362    4.376    4.396  \n",
       "1    1.812    1.818    1.822    1.824    1.822    1.820  \n",
       "\n",
       "[2 rows x 91 columns]"
      ]
     },
     "execution_count": 88,
     "metadata": {},
     "output_type": "execute_result"
    }
   ],
   "source": [
    "all_prices = pd.read_csv(\"zillow/Zip_ZriPerSqft_AllHomes.csv\")\n",
    "\n",
    "# Function to get data\n",
    "def get_X_Y(data):\n",
    "\tX_parameter = []\n",
    "\tY_parameter = []\n",
    "\tfor single_square_feet ,single_price_value in zip(data['square_feet'],data['price']):\n",
    "\t\tX_parameter.append([float(single_square_feet)])\n",
    "\t\tY_parameter.append(float(single_price_value))\n",
    "\treturn X_parameter,Y_parameter\n",
    "\n",
    "all_prices.head(n=2)"
   ]
  },
  {
   "cell_type": "code",
   "execution_count": 92,
   "metadata": {},
   "outputs": [],
   "source": [
    "my_prices = all_prices[all_prices['RegionName'] == 10023].T.iloc[8:,:].reset_index()\n",
    "my_prices.columns = ['date','rent']\n",
    "my_prices = my_prices.reset_index()\n",
    "\n",
    "my_prices = my_prices.fillna(value=0)\n",
    "my_prices = my_prices[my_prices['rent'] > 0]"
   ]
  },
  {
   "cell_type": "code",
   "execution_count": 93,
   "metadata": {},
   "outputs": [],
   "source": [
    "prices = my_prices['index']\n",
    "l = list(prices)\n",
    "\n",
    "X = []\n",
    "\n",
    "for price in prices:\n",
    "    X.append([price])\n",
    "    \n",
    "\n",
    "Y = list(my_prices['rent'])"
   ]
  },
  {
   "cell_type": "code",
   "execution_count": 94,
   "metadata": {},
   "outputs": [
    {
     "name": "stdout",
     "output_type": "stream",
     "text": [
      "Intercept value  3.83441663313\n",
      "coefficient  [ 0.02171724]\n"
     ]
    },
    {
     "data": {
      "image/png": "[encoded data removed]",
      "text/plain": [
       "<matplotlib.figure.Figure at 0x10f8e4898>"
      ]
     },
     "metadata": {},
     "output_type": "display_data"
    },
    {
     "name": "stdout",
     "output_type": "stream",
     "text": [
      "Predicted value:  [ 5.63694728]\n"
     ]
    }
   ],
   "source": [
    "predictvalue = 83\n",
    "result = linear_model_main(X,Y,predictvalue)\n",
    "print(\"Intercept value \" , result['intercept'])\n",
    "print(\"coefficient \" , result['coefficient'])\n",
    "show_linear_line(X,Y)\n",
    "print(\"Predicted value: \",result['predicted_value'])"
   ]
  },
  {
   "cell_type": "code",
   "execution_count": null,
   "metadata": {},
   "outputs": [],
   "source": []
  },
  {
   "cell_type": "code",
   "execution_count": null,
   "metadata": {
    "collapsed": true
   },
   "outputs": [],
   "source": []
  }
 ],
 "metadata": {
  "kernelspec": {
   "display_name": "Python 3",
   "language": "python",
   "name": "python3"
  },
  "language_info": {
   "codemirror_mode": {
    "name": "ipython",
    "version": 3
   },
   "file_extension": ".py",
   "mimetype": "text/x-python",
   "name": "python",
   "nbconvert_exporter": "python",
   "pygments_lexer": "ipython3",
   "version": "3.6.2"
  }
 },
 "nbformat": 4,
 "nbformat_minor": 2
}
