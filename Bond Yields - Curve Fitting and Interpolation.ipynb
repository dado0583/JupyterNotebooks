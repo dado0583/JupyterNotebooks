{
 "cells": [
  {
   "cell_type": "code",
   "execution_count": 44,
   "metadata": {},
   "outputs": [
    {
     "name": "stdout",
     "output_type": "stream",
     "text": [
      "11\n",
      "11\n"
     ]
    }
   ],
   "source": [
    "#https://www.treasury.gov/resource-center/data-chart-center/interest-rates/Pages/TextView.aspx?data=yield\n",
    "\n",
    "#Date\t1 Mo\t3 Mo\t6 Mo\t1 Yr\t2 Yr\t3 Yr\t5 Yr\t7 Yr\t10 Yr\t20 Yr\t30 Yr\n",
    "#11/01/17\t1.06\t1.18\t1.30\t1.46\t1.61\t1.74\t2.01\t2.22\t2.37\t2.63\t2.85\n",
    "\n",
    "curve_tenors = [.0825, .25, .5, 1,2, 3,5,7,10,20, 30]\n",
    "curve_yields = [1.06, 1.18, 1.3, 1.46, 1.61, 1.74, 2.01, 2.22, 2.37, 2.63, 2.85]\n",
    "\n",
    "print(len(curve_tenors))\n",
    "print(len(curve_yields))"
   ]
  },
  {
   "cell_type": "code",
   "execution_count": 45,
   "metadata": {},
   "outputs": [
    {
     "name": "stderr",
     "output_type": "stream",
     "text": [
      "/usr/local/lib/python3.6/site-packages/scipy/stats/stats.py:1390: UserWarning:\n",
      "\n",
      "kurtosistest only valid for n>=20 ... continuing anyway, n=11\n",
      "\n"
     ]
    },
    {
     "data": {
      "text/html": [
       "<table class=\"simpletable\">\n",
       "<caption>OLS Regression Results</caption>\n",
       "<tr>\n",
       "  <th>Dep. Variable:</th>            <td>y</td>        <th>  R-squared:         </th> <td>   0.636</td>\n",
       "</tr>\n",
       "<tr>\n",
       "  <th>Model:</th>                   <td>OLS</td>       <th>  Adj. R-squared:    </th> <td>   0.599</td>\n",
       "</tr>\n",
       "<tr>\n",
       "  <th>Method:</th>             <td>Least Squares</td>  <th>  F-statistic:       </th> <td>   17.44</td>\n",
       "</tr>\n",
       "<tr>\n",
       "  <th>Date:</th>             <td>Sat, 04 Nov 2017</td> <th>  Prob (F-statistic):</th>  <td>0.00190</td>\n",
       "</tr>\n",
       "<tr>\n",
       "  <th>Time:</th>                 <td>16:55:15</td>     <th>  Log-Likelihood:    </th> <td> -17.371</td>\n",
       "</tr>\n",
       "<tr>\n",
       "  <th>No. Observations:</th>      <td>    11</td>      <th>  AIC:               </th> <td>   36.74</td>\n",
       "</tr>\n",
       "<tr>\n",
       "  <th>Df Residuals:</th>          <td>    10</td>      <th>  BIC:               </th> <td>   37.14</td>\n",
       "</tr>\n",
       "<tr>\n",
       "  <th>Df Model:</th>              <td>     1</td>      <th>                     </th>     <td> </td>   \n",
       "</tr>\n",
       "<tr>\n",
       "  <th>Covariance Type:</th>      <td>nonrobust</td>    <th>                     </th>     <td> </td>   \n",
       "</tr>\n",
       "</table>\n",
       "<table class=\"simpletable\">\n",
       "<tr>\n",
       "   <td></td>     <th>coef</th>     <th>std err</th>      <th>t</th>      <th>P>|t|</th>  <th>[0.025</th>    <th>0.975]</th>  \n",
       "</tr>\n",
       "<tr>\n",
       "  <th>x1</th> <td>    0.1333</td> <td>    0.032</td> <td>    4.176</td> <td> 0.002</td> <td>    0.062</td> <td>    0.204</td>\n",
       "</tr>\n",
       "</table>\n",
       "<table class=\"simpletable\">\n",
       "<tr>\n",
       "  <th>Omnibus:</th>       <td>15.825</td> <th>  Durbin-Watson:     </th> <td>   0.164</td>\n",
       "</tr>\n",
       "<tr>\n",
       "  <th>Prob(Omnibus):</th> <td> 0.000</td> <th>  Jarque-Bera (JB):  </th> <td>   9.325</td>\n",
       "</tr>\n",
       "<tr>\n",
       "  <th>Skew:</th>          <td>-1.932</td> <th>  Prob(JB):          </th> <td> 0.00944</td>\n",
       "</tr>\n",
       "<tr>\n",
       "  <th>Kurtosis:</th>      <td> 5.327</td> <th>  Cond. No.          </th> <td>    1.00</td>\n",
       "</tr>\n",
       "</table>"
      ],
      "text/plain": [
       "<class 'statsmodels.iolib.summary.Summary'>\n",
       "\"\"\"\n",
       "                            OLS Regression Results                            \n",
       "==============================================================================\n",
       "Dep. Variable:                      y   R-squared:                       0.636\n",
       "Model:                            OLS   Adj. R-squared:                  0.599\n",
       "Method:                 Least Squares   F-statistic:                     17.44\n",
       "Date:                Sat, 04 Nov 2017   Prob (F-statistic):            0.00190\n",
       "Time:                        16:55:15   Log-Likelihood:                -17.371\n",
       "No. Observations:                  11   AIC:                             36.74\n",
       "Df Residuals:                      10   BIC:                             37.14\n",
       "Df Model:                           1                                         \n",
       "Covariance Type:            nonrobust                                         \n",
       "==============================================================================\n",
       "                 coef    std err          t      P>|t|      [0.025      0.975]\n",
       "------------------------------------------------------------------------------\n",
       "x1             0.1333      0.032      4.176      0.002       0.062       0.204\n",
       "==============================================================================\n",
       "Omnibus:                       15.825   Durbin-Watson:                   0.164\n",
       "Prob(Omnibus):                  0.000   Jarque-Bera (JB):                9.325\n",
       "Skew:                          -1.932   Prob(JB):                      0.00944\n",
       "Kurtosis:                       5.327   Cond. No.                         1.00\n",
       "==============================================================================\n",
       "\n",
       "Warnings:\n",
       "[1] Standard Errors assume that the covariance matrix of the errors is correctly specified.\n",
       "\"\"\""
      ]
     },
     "execution_count": 45,
     "metadata": {},
     "output_type": "execute_result"
    }
   ],
   "source": [
    "X = curve_tenors\n",
    "y = curve_yields\n",
    "import statsmodels.api as sm\n",
    "# Note the difference in argument order\n",
    "model = sm.OLS(y, X).fit()\n",
    "predictions = model.predict(X) # make the predictions by the model\n",
    "\n",
    "# Print out the statistics\n",
    "model.summary()"
   ]
  },
  {
   "cell_type": "code",
   "execution_count": 46,
   "metadata": {
    "collapsed": true
   },
   "outputs": [],
   "source": [
    "predict_X = list(range(1,30))\n",
    "predict_Y = model.predict(predict_X)"
   ]
  },
  {
   "cell_type": "code",
   "execution_count": 47,
   "metadata": {},
   "outputs": [
    {
     "data": {
      "text/html": [
       "<script>requirejs.config({paths: { 'plotly': ['https://cdn.plot.ly/plotly-latest.min']},});if(!window.Plotly) {{require(['plotly'],function(plotly) {window.Plotly=plotly;});}}</script>"
      ],
      "text/vnd.plotly.v1+html": [
       "<script>requirejs.config({paths: { 'plotly': ['https://cdn.plot.ly/plotly-latest.min']},});if(!window.Plotly) {{require(['plotly'],function(plotly) {window.Plotly=plotly;});}}</script>"
      ]
     },
     "metadata": {},
     "output_type": "display_data"
    },
    {
     "data": {
      "application/vnd.plotly.v1+json": {
       "data": [
        {
         "line": {
          "color": "#17BECF"
         },
         "name": "Actual Bond Yields",
         "opacity": 0.8,
         "type": "scatter",
         "x": [
          0.0825,
          0.25,
          0.5,
          1,
          2,
          3,
          5,
          7,
          10,
          20,
          30
         ],
         "y": [
          1.06,
          1.18,
          1.3,
          1.46,
          1.61,
          1.74,
          2.01,
          2.22,
          2.37,
          2.63,
          2.85
         ]
        },
        {
         "line": {
          "color": "#7F7F7F"
         },
         "name": "Predicted Bond Yields",
         "opacity": 0.8,
         "type": "scatter",
         "x": [
          1,
          2,
          3,
          4,
          5,
          6,
          7,
          8,
          9,
          10,
          11,
          12,
          13,
          14,
          15,
          16,
          17,
          18,
          19,
          20,
          21,
          22,
          23,
          24,
          25,
          26,
          27,
          28,
          29
         ],
         "y": [
          0.13325262204633853,
          0.26650524409267706,
          0.3997578661390156,
          0.5330104881853541,
          0.6662631102316927,
          0.7995157322780312,
          0.9327683543243697,
          1.0660209763707083,
          1.1992735984170468,
          1.3325262204633854,
          1.4657788425097238,
          1.5990314645560624,
          1.732284086602401,
          1.8655367086487393,
          1.998789330695078,
          2.1320419527414165,
          2.265294574787755,
          2.3985471968340937,
          2.5317998188804323,
          2.665052440926771,
          2.798305062973109,
          2.9315576850194476,
          3.064810307065786,
          3.1980629291121248,
          3.3313155511584633,
          3.464568173204802,
          3.5978207952511405,
          3.7310734172974787,
          3.8643260393438172
         ]
        }
       ],
       "layout": {
        "title": "Comparing linear interpolation vs. linear regression"
       }
      },
      "text/html": [
       "<div id=\"eb72f3e6-452a-47a0-ac01-bf0fa5092a7c\" style=\"height: 525px; width: 100%;\" class=\"plotly-graph-div\"></div><script type=\"text/javascript\">require([\"plotly\"], function(Plotly) { window.PLOTLYENV=window.PLOTLYENV || {};window.PLOTLYENV.BASE_URL=\"https://plot.ly\";Plotly.newPlot(\"eb72f3e6-452a-47a0-ac01-bf0fa5092a7c\", [{\"type\": \"scatter\", \"x\": [0.0825, 0.25, 0.5, 1, 2, 3, 5, 7, 10, 20, 30], \"y\": [1.06, 1.18, 1.3, 1.46, 1.61, 1.74, 2.01, 2.22, 2.37, 2.63, 2.85], \"name\": \"Actual Bond Yields\", \"line\": {\"color\": \"#17BECF\"}, \"opacity\": 0.8}, {\"type\": \"scatter\", \"x\": [1, 2, 3, 4, 5, 6, 7, 8, 9, 10, 11, 12, 13, 14, 15, 16, 17, 18, 19, 20, 21, 22, 23, 24, 25, 26, 27, 28, 29], \"y\": [0.13325262204633853, 0.26650524409267706, 0.3997578661390156, 0.5330104881853541, 0.6662631102316927, 0.7995157322780312, 0.9327683543243697, 1.0660209763707083, 1.1992735984170468, 1.3325262204633854, 1.4657788425097238, 1.5990314645560624, 1.732284086602401, 1.8655367086487393, 1.998789330695078, 2.1320419527414165, 2.265294574787755, 2.3985471968340937, 2.5317998188804323, 2.665052440926771, 2.798305062973109, 2.9315576850194476, 3.064810307065786, 3.1980629291121248, 3.3313155511584633, 3.464568173204802, 3.5978207952511405, 3.7310734172974787, 3.8643260393438172], \"name\": \"Predicted Bond Yields\", \"line\": {\"color\": \"#7F7F7F\"}, \"opacity\": 0.8}], {\"title\": \"Comparing linear interpolation vs. linear regression\"}, {\"showLink\": true, \"linkText\": \"Export to plot.ly\"})});</script>"
      ],
      "text/vnd.plotly.v1+html": [
       "<div id=\"eb72f3e6-452a-47a0-ac01-bf0fa5092a7c\" style=\"height: 525px; width: 100%;\" class=\"plotly-graph-div\"></div><script type=\"text/javascript\">require([\"plotly\"], function(Plotly) { window.PLOTLYENV=window.PLOTLYENV || {};window.PLOTLYENV.BASE_URL=\"https://plot.ly\";Plotly.newPlot(\"eb72f3e6-452a-47a0-ac01-bf0fa5092a7c\", [{\"type\": \"scatter\", \"x\": [0.0825, 0.25, 0.5, 1, 2, 3, 5, 7, 10, 20, 30], \"y\": [1.06, 1.18, 1.3, 1.46, 1.61, 1.74, 2.01, 2.22, 2.37, 2.63, 2.85], \"name\": \"Actual Bond Yields\", \"line\": {\"color\": \"#17BECF\"}, \"opacity\": 0.8}, {\"type\": \"scatter\", \"x\": [1, 2, 3, 4, 5, 6, 7, 8, 9, 10, 11, 12, 13, 14, 15, 16, 17, 18, 19, 20, 21, 22, 23, 24, 25, 26, 27, 28, 29], \"y\": [0.13325262204633853, 0.26650524409267706, 0.3997578661390156, 0.5330104881853541, 0.6662631102316927, 0.7995157322780312, 0.9327683543243697, 1.0660209763707083, 1.1992735984170468, 1.3325262204633854, 1.4657788425097238, 1.5990314645560624, 1.732284086602401, 1.8655367086487393, 1.998789330695078, 2.1320419527414165, 2.265294574787755, 2.3985471968340937, 2.5317998188804323, 2.665052440926771, 2.798305062973109, 2.9315576850194476, 3.064810307065786, 3.1980629291121248, 3.3313155511584633, 3.464568173204802, 3.5978207952511405, 3.7310734172974787, 3.8643260393438172], \"name\": \"Predicted Bond Yields\", \"line\": {\"color\": \"#7F7F7F\"}, \"opacity\": 0.8}], {\"title\": \"Comparing linear interpolation vs. linear regression\"}, {\"showLink\": true, \"linkText\": \"Export to plot.ly\"})});</script>"
      ]
     },
     "metadata": {},
     "output_type": "display_data"
    }
   ],
   "source": [
    "from plotly.offline import init_notebook_mode, iplot\n",
    "from IPython.display import display, HTML\n",
    "\n",
    "import plotly.graph_objs as go\n",
    "\n",
    "init_notebook_mode(connected=True)\n",
    "\n",
    "trace_high = go.Scatter(\n",
    "                x=X,\n",
    "                y=y,\n",
    "                name = \"Actual Bond Yields\",\n",
    "                line = dict(color = '#17BECF'),\n",
    "                opacity = 0.8)\n",
    "\n",
    "trace_low = go.Scatter(\n",
    "                x=predict_X,\n",
    "                y=predict_Y,\n",
    "                name = \"Predicted Bond Yields\",\n",
    "                line = dict(color = '#7F7F7F'),\n",
    "                opacity = 0.8)\n",
    "\n",
    "data = [trace_high,trace_low]\n",
    "\n",
    "layout = dict(\n",
    "    title = \"Comparing linear interpolation vs. linear regression\"\n",
    ")\n",
    "\n",
    "fig = dict(data=data, layout=layout)\n",
    "iplot(fig)"
   ]
  },
  {
   "cell_type": "code",
   "execution_count": 57,
   "metadata": {},
   "outputs": [
    {
     "name": "stdout",
     "output_type": "stream",
     "text": [
      "[0.0825, 0.25, 0.5, 1, 2, 3, 5, 7, 10, 20, 30]\n",
      "[1.06, 1.18, 1.3, 1.46, 1.61, 1.74, 2.01, 2.22, 2.37, 2.63, 2.85]\n",
      "[ 1.14277077  1.18877484  1.25500511  1.37904642  1.59582849  1.77521873\n",
      "  2.04121769  2.21261231  2.35745354  2.63239579  2.84967632]\n"
     ]
    }
   ],
   "source": [
    "from scipy import *\n",
    "\n",
    "x=curve_tenors\n",
    "y=curve_yields\n",
    "p2 = polyfit(x, y, 4)\n",
    "new_y = polyval(p2, x)\n",
    "\n",
    "print(x)\n",
    "print(y)\n",
    "print(polyval(p2, x))"
   ]
  },
  {
   "cell_type": "code",
   "execution_count": 58,
   "metadata": {},
   "outputs": [
    {
     "data": {
      "text/html": [
       "<script>requirejs.config({paths: { 'plotly': ['https://cdn.plot.ly/plotly-latest.min']},});if(!window.Plotly) {{require(['plotly'],function(plotly) {window.Plotly=plotly;});}}</script>"
      ],
      "text/vnd.plotly.v1+html": [
       "<script>requirejs.config({paths: { 'plotly': ['https://cdn.plot.ly/plotly-latest.min']},});if(!window.Plotly) {{require(['plotly'],function(plotly) {window.Plotly=plotly;});}}</script>"
      ]
     },
     "metadata": {},
     "output_type": "display_data"
    },
    {
     "data": {
      "application/vnd.plotly.v1+json": {
       "data": [
        {
         "line": {
          "color": "#17BECF"
         },
         "name": "Actual Bond Yields",
         "opacity": 0.8,
         "type": "scatter",
         "x": [
          0.0825,
          0.25,
          0.5,
          1,
          2,
          3,
          5,
          7,
          10,
          20,
          30
         ],
         "y": [
          1.06,
          1.18,
          1.3,
          1.46,
          1.61,
          1.74,
          2.01,
          2.22,
          2.37,
          2.63,
          2.85
         ]
        },
        {
         "line": {
          "color": "#7F7F7F"
         },
         "name": "Predicted Bond Yields",
         "opacity": 0.8,
         "type": "scatter",
         "x": [
          0.0825,
          0.25,
          0.5,
          1,
          2,
          3,
          5,
          7,
          10,
          20,
          30
         ],
         "y": [
          1.1427707650353578,
          1.188774837732381,
          1.2550051141139238,
          1.3790464156499307,
          1.5958284899160757,
          1.7752187250999336,
          2.041217685399837,
          2.212612311833226,
          2.3574535375605397,
          2.6323957940588123,
          2.849676323599989
         ]
        }
       ],
       "layout": {
        "title": "Comparing linear interpolation vs. polynomial regression"
       }
      },
      "text/html": [
       "<div id=\"714c1cb3-9cb7-4cee-bb73-adc8751b9976\" style=\"height: 525px; width: 100%;\" class=\"plotly-graph-div\"></div><script type=\"text/javascript\">require([\"plotly\"], function(Plotly) { window.PLOTLYENV=window.PLOTLYENV || {};window.PLOTLYENV.BASE_URL=\"https://plot.ly\";Plotly.newPlot(\"714c1cb3-9cb7-4cee-bb73-adc8751b9976\", [{\"type\": \"scatter\", \"x\": [0.0825, 0.25, 0.5, 1, 2, 3, 5, 7, 10, 20, 30], \"y\": [1.06, 1.18, 1.3, 1.46, 1.61, 1.74, 2.01, 2.22, 2.37, 2.63, 2.85], \"name\": \"Actual Bond Yields\", \"line\": {\"color\": \"#17BECF\"}, \"opacity\": 0.8}, {\"type\": \"scatter\", \"x\": [0.0825, 0.25, 0.5, 1, 2, 3, 5, 7, 10, 20, 30], \"y\": [1.1427707650353578, 1.188774837732381, 1.2550051141139238, 1.3790464156499307, 1.5958284899160757, 1.7752187250999336, 2.041217685399837, 2.212612311833226, 2.3574535375605397, 2.6323957940588123, 2.849676323599989], \"name\": \"Predicted Bond Yields\", \"line\": {\"color\": \"#7F7F7F\"}, \"opacity\": 0.8}], {\"title\": \"Comparing linear interpolation vs. polynomial regression\"}, {\"showLink\": true, \"linkText\": \"Export to plot.ly\"})});</script>"
      ],
      "text/vnd.plotly.v1+html": [
       "<div id=\"714c1cb3-9cb7-4cee-bb73-adc8751b9976\" style=\"height: 525px; width: 100%;\" class=\"plotly-graph-div\"></div><script type=\"text/javascript\">require([\"plotly\"], function(Plotly) { window.PLOTLYENV=window.PLOTLYENV || {};window.PLOTLYENV.BASE_URL=\"https://plot.ly\";Plotly.newPlot(\"714c1cb3-9cb7-4cee-bb73-adc8751b9976\", [{\"type\": \"scatter\", \"x\": [0.0825, 0.25, 0.5, 1, 2, 3, 5, 7, 10, 20, 30], \"y\": [1.06, 1.18, 1.3, 1.46, 1.61, 1.74, 2.01, 2.22, 2.37, 2.63, 2.85], \"name\": \"Actual Bond Yields\", \"line\": {\"color\": \"#17BECF\"}, \"opacity\": 0.8}, {\"type\": \"scatter\", \"x\": [0.0825, 0.25, 0.5, 1, 2, 3, 5, 7, 10, 20, 30], \"y\": [1.1427707650353578, 1.188774837732381, 1.2550051141139238, 1.3790464156499307, 1.5958284899160757, 1.7752187250999336, 2.041217685399837, 2.212612311833226, 2.3574535375605397, 2.6323957940588123, 2.849676323599989], \"name\": \"Predicted Bond Yields\", \"line\": {\"color\": \"#7F7F7F\"}, \"opacity\": 0.8}], {\"title\": \"Comparing linear interpolation vs. polynomial regression\"}, {\"showLink\": true, \"linkText\": \"Export to plot.ly\"})});</script>"
      ]
     },
     "metadata": {},
     "output_type": "display_data"
    }
   ],
   "source": [
    "from plotly.offline import init_notebook_mode, iplot\n",
    "from IPython.display import display, HTML\n",
    "\n",
    "import plotly.graph_objs as go\n",
    "\n",
    "init_notebook_mode(connected=True)\n",
    "\n",
    "trace_high = go.Scatter(\n",
    "                x=x,\n",
    "                y=y,\n",
    "                name = \"Actual Bond Yields\",\n",
    "                line = dict(color = '#17BECF'),\n",
    "                opacity = 0.8)\n",
    "\n",
    "trace_low = go.Scatter(\n",
    "                x=x,\n",
    "                y=new_y,\n",
    "                name = \"Predicted Bond Yields\",\n",
    "                line = dict(color = '#7F7F7F'),\n",
    "                opacity = 0.8)\n",
    "\n",
    "data = [trace_high,trace_low]\n",
    "\n",
    "layout = dict(\n",
    "    title = \"Comparing linear interpolation vs. polynomial regression\"\n",
    ")\n",
    "\n",
    "fig = dict(data=data, layout=layout)\n",
    "iplot(fig)"
   ]
  },
  {
   "cell_type": "code",
   "execution_count": 60,
   "metadata": {},
   "outputs": [
    {
     "data": {
      "text/plain": [
       "2.8659686346535773"
      ]
     },
     "execution_count": 60,
     "metadata": {},
     "output_type": "execute_result"
    }
   ],
   "source": [
    "#Predicting the yield for the 27 Y tenor \n",
    "polyval(p2, 27)"
   ]
  },
  {
   "cell_type": "code",
   "execution_count": null,
   "metadata": {
    "collapsed": true
   },
   "outputs": [],
   "source": []
  }
 ],
 "metadata": {
  "kernelspec": {
   "display_name": "Python 3",
   "language": "python",
   "name": "python3"
  },
  "language_info": {
   "codemirror_mode": {
    "name": "ipython",
    "version": 3
   },
   "file_extension": ".py",
   "mimetype": "text/x-python",
   "name": "python",
   "nbconvert_exporter": "python",
   "pygments_lexer": "ipython3",
   "version": "3.6.2"
  }
 },
 "nbformat": 4,
 "nbformat_minor": 2
}
